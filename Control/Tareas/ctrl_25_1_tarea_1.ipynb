{
 "cells": [
  {
   "cell_type": "markdown",
   "metadata": {},
   "source": [
    "# Control Tarea 1--- Algunos ejercicios de preparación en Julia\n",
    "\n",
    "El propósito de estos ejercicios es repasar algunas construcciones en Julia que vamos a usar con alguna frecuencia durante el curso. (Necesitarán los paquetes `LinearAlgebra`, `ControlSystems` y `Plots` y el archivo `ControlUN.jl`):\n",
    "\n",
    "1. >Construya un vector con las componentes: 0.1, 0.4, 0.7, 0.8, 0.9, 1.25, $\\pi/2$, $e^{-2}.$\n",
    "> Defina las matrices \n",
    "$$A = \\begin{bmatrix}\n",
    "-4 & -1.5 \\\\ \n",
    "5 & 4\n",
    "\\end{bmatrix}\\qquad B=\n",
    "\\begin{bmatrix}\n",
    "-1 \\\\ \n",
    "1\n",
    "\\end{bmatrix}\n",
    "$$\n",
    "Y resuelva el sistema de ecuaciones $A\\,x=B$.\n",
    "\n"
   ]
  },
  {
   "cell_type": "code",
   "execution_count": null,
   "metadata": {},
   "outputs": [],
   "source": [
    "using ControlSystems\n",
    "using LinearAlgebra\n",
    "using Plots\n"
   ]
  },
  {
   "cell_type": "code",
   "execution_count": 97,
   "metadata": {},
   "outputs": [
    {
     "data": {
      "text/plain": [
       "2-element Vector{Float64}:\n",
       "  0.2941176470588235\n",
       " -0.11764705882352937"
      ]
     },
     "metadata": {},
     "output_type": "display_data"
    }
   ],
   "source": [
    "\n",
    "q = [ 0.1, 0.4, 0.7, 0.8, 0.9, 1.25, pi/2, exp(-2)]\n",
    "\n",
    "A = [ -4 -1.5; 5 4]\n",
    "\n",
    "B = [-1 ; 1]\n",
    "\n",
    "# Solucion del sistema de ecuaciones\n",
    "\n",
    "x = A \\ B\n"
   ]
  },
  {
   "cell_type": "markdown",
   "metadata": {},
   "source": [
    "#### Respuesta 1\n",
    "\n",
    "$$x =\n",
    "\\begin{bmatrix}\n",
    "0.294 \\\\ \n",
    "-0.118\n",
    "\\end{bmatrix}\n",
    "$$"
   ]
  },
  {
   "cell_type": "markdown",
   "metadata": {},
   "source": [
    "2. >Construya un vector `v` con valores $1, 2, \\ldots,100$; seleccione las componentes $v_i, i\\in \\{10,\\ldots,25\\}$ para formar otro vector `w`. Forme otro vector $z$ con $z_j=v_j, j\\in \\{15, 20, 25, \\ldots,50\\}$.\n"
   ]
  },
  {
   "cell_type": "code",
   "execution_count": 3,
   "metadata": {},
   "outputs": [
    {
     "data": {
      "text/plain": [
       "8-element Vector{Int64}:\n",
       " 15\n",
       " 20\n",
       " 25\n",
       " 30\n",
       " 35\n",
       " 40\n",
       " 45\n",
       " 50"
      ]
     },
     "metadata": {},
     "output_type": "display_data"
    }
   ],
   "source": [
    "v_1 = collect(1:100)\n",
    "v_2 = collect(10:25)\n",
    "v_3 = collect(15:5:50)"
   ]
  },
  {
   "cell_type": "markdown",
   "metadata": {},
   "source": [
    "3. >Defina un vector de ángulos $\\theta\\in\\{0, \\pi/20, 2\\pi/20 \\ldots,2\\pi\\}$ y calcule $0.6\\sin(\\theta-\\pi/4)-0.8\\cos(\\theta)$. Grafique esta función; use una línea de color rojo.\n"
   ]
  },
  {
   "cell_type": "code",
   "execution_count": 83,
   "metadata": {},
   "outputs": [],
   "source": []
  },
  {
   "cell_type": "markdown",
   "metadata": {},
   "source": [
    "4. >Defina una matriz de ceros de tamaño $5\\times2$ y una matriz identidad $10\\times10$.\n"
   ]
  },
  {
   "cell_type": "code",
   "execution_count": 84,
   "metadata": {},
   "outputs": [],
   "source": []
  },
  {
   "cell_type": "markdown",
   "metadata": {},
   "source": [
    "\n",
    "5. >Construya una función de transferencia :\n",
    "    $$P(s) = \\dfrac{5s+3}{s^3+12s^2+1.275s+3}$$\n",
    "> Encuentre los polos y los ceros de este sistema. Encuentre un modelo de variables de estado para este sistema dinámico lineal.\n"
   ]
  },
  {
   "cell_type": "code",
   "execution_count": 85,
   "metadata": {},
   "outputs": [],
   "source": [
    "\n"
   ]
  },
  {
   "cell_type": "code",
   "execution_count": 86,
   "metadata": {},
   "outputs": [],
   "source": []
  },
  {
   "cell_type": "markdown",
   "metadata": {},
   "source": [
    "6. >El sistema lineal definido en el problema 5., se va a conectar en una configuración de realimentación unitaria como la que se muestra en la figura. Suponga que el controlador es $K(s)=10$. Encuentre las funciones de transferencia $y(s)/r(s)$, $u(s)/r(s)$ y $y(s)/d_y(s)$. Use Julia para estos cálculos."
   ]
  },
  {
   "cell_type": "markdown",
   "metadata": {},
   "source": [
    "![Realimentación unitaria](fig_1_2-1.png)"
   ]
  },
  {
   "cell_type": "markdown",
   "metadata": {},
   "source": [
    "7. >Simule que se aplica una señal tipo escalón (*unit step*) en la entrada $r$ del sistema de lazo cerrado, mientras las otras entradas se mantienen en cero. Grafique la salida en función del tiempo. (Use la función `step`)."
   ]
  },
  {
   "cell_type": "code",
   "execution_count": null,
   "metadata": {},
   "outputs": [],
   "source": [
    "data\n"
   ]
  },
  {
   "cell_type": "markdown",
   "metadata": {},
   "source": [
    "8. >Repita el problema anterior para una entrada tipo escalón en la perturbación de salida $d_y$. (Aquí utilice la función `step_plt(sys, t_max)`, incluida en el archivo `ControlUN.jl`)."
   ]
  },
  {
   "cell_type": "code",
   "execution_count": 88,
   "metadata": {},
   "outputs": [],
   "source": []
  },
  {
   "cell_type": "markdown",
   "metadata": {},
   "source": [
    "9. >Ahora defina  una matriz  $\\Theta_c$ de tamaño $3\\times3$ sin darle valores; posteriormente asignaremos sus componentes vector por vector (puede usar la construcción `Array{Float64}(undef,3,3)`). Utilice las matrices $A,B$ del modelo obtenido en el problema 5 y asigne a la columna $j$ de la matriz $\\Theta_c^{(j)}$, el producto:\n",
    "$$ \\Theta_c^{(j)}= A^{j-1}B$$\n",
    ">donde $A^j = A\\times A\\times\\cdots\\times A$ ($j$ veces). Esto significa que \n",
    "$$ \\Theta_c= \\begin{bmatrix}B&AB&A^2B&\\cdots&A^{n-1}B\\end{bmatrix}$$\n",
    ">Encuentre el rango de la matriz $\\Theta_c$"
   ]
  },
  {
   "cell_type": "code",
   "execution_count": 89,
   "metadata": {},
   "outputs": [],
   "source": []
  },
  {
   "cell_type": "markdown",
   "metadata": {},
   "source": [
    "10. >A continuación, defina una matriz  $\\Theta_o$ de tamaño $3\\times3$ sin darle valores; posteriormente asignaremos sus componentes. Utilice las matrices $A,C$ del modelo obtenido en el problema anterior y asigne a la fila  $i$ de la matriz $\\Theta_{o(i)}$, el producto:\n",
    "$$ \\Theta_{o(j)}= C\\,A^{i-1}$$\n",
    ">donde $A^i = A\\times A\\times\\cdots\\times A$ ($i$ veces). Por lo tanto, \n",
    "$$ \\Theta_o= \\begin{bmatrix}C\\\\C\\,A\\\\C\\,A^2\\\\\\vdots\\\\C\\,A^{n-1}\\end{bmatrix}.$$\n"
   ]
  },
  {
   "cell_type": "code",
   "execution_count": 90,
   "metadata": {},
   "outputs": [],
   "source": []
  },
  {
   "cell_type": "markdown",
   "metadata": {},
   "source": [
    "> Si la matriz $\\Theta_o$ es de rango completo, calcule su inversa."
   ]
  },
  {
   "cell_type": "code",
   "execution_count": 91,
   "metadata": {},
   "outputs": [],
   "source": []
  },
  {
   "cell_type": "markdown",
   "metadata": {},
   "source": [
    "11. >Dado el vector de tiempos (`t = collect(0:0.01:10)`), defina una señal de entrada a un sistema  lineal, así\n",
    "$$f(t) = \\begin{cases}0.25\\,t &0\\le t\\le2\\\\\n",
    "0.5 & 2\\le t \\le 4\\\\\n",
    "-0.25\\,t+2.5 & 4\\le t \\le6\\\\ \n",
    "0& t\\le6 \\end{cases}$$\n",
    "> Debe definir una función de dos variables, $x$ y $t$ tal que a cada valor del argumento $t$ da el valor de la señal que acabamos de definir. \n",
    "`u(x,t) -> f(t)`\n",
    "> Compruebe que produce los valores dados en la definición y haga una gráfica $f(t)$ vs $t$"
   ]
  },
  {
   "cell_type": "code",
   "execution_count": 92,
   "metadata": {},
   "outputs": [],
   "source": []
  },
  {
   "cell_type": "markdown",
   "metadata": {},
   "source": [
    "12. >Use la función `u(x,t)` definida en el problema anterior como señal de entrada a un sistema lineal, descrito por la función de transferencia\n",
    "$$F(s) = \\dfrac{3.25\\omega_o^2+\\omega_o^3}{s^3+1.75\\omega_o+3.25\\omega_o^2+\\omega_o^3}, \\quad\\text{para } \\omega_o=8$$\n",
    ">Haga una gráfica de la respuesta vs $t$."
   ]
  },
  {
   "cell_type": "code",
   "execution_count": 93,
   "metadata": {},
   "outputs": [],
   "source": []
  }
 ],
 "metadata": {
  "kernelspec": {
   "display_name": "Julia 1.11.5",
   "language": "julia",
   "name": "julia-1.11"
  },
  "language_info": {
   "file_extension": ".jl",
   "mimetype": "application/julia",
   "name": "julia",
   "version": "1.11.5"
  }
 },
 "nbformat": 4,
 "nbformat_minor": 2
}
