{
 "cells": [
  {
   "cell_type": "markdown",
   "metadata": {},
   "source": [
    "# Control Tarea 1--- Algunos ejercicios de preparación en Julia\n",
    "\n",
    "El propósito de estos ejercicios es repasar algunas construcciones en Julia que vamos a usar con alguna frecuencia durante el curso. (Necesitarán los paquetes `LinearAlgebra`, `ControlSystems` y `Plots` y el archivo `ControlUN.jl`):\n",
    "\n",
    "1. >Construya un vector con las componentes: 0.1, 0.4, 0.7, 0.8, 0.9, 1.25, $\\pi/2$, $e^{-2}.$\n",
    "> Defina las matrices \n",
    "$$A = \\begin{bmatrix}\n",
    "-4 & -1.5 \\\\ \n",
    "5 & 4\n",
    "\\end{bmatrix}\\qquad B=\n",
    "\\begin{bmatrix}\n",
    "-1 \\\\ \n",
    "1\n",
    "\\end{bmatrix}\n",
    "$$\n",
    "Y resuelva el sistema de ecuaciones $A\\,x=B$.\n",
    "\n"
   ]
  },
  {
   "cell_type": "code",
   "execution_count": null,
   "metadata": {},
   "outputs": [],
   "source": [
    "# using Pkg\n",
    "# Pkg.add(\"ControlSystems\")\n",
    "# Pkg.add(\"LinearAlgebra\")\n",
    "# Pkg.add(\"Plots\")"
   ]
  },
  {
   "cell_type": "code",
   "execution_count": 29,
   "metadata": {},
   "outputs": [],
   "source": [
    "\n",
    "using ControlSystems\n",
    "using LinearAlgebra\n",
    "using Plots\n"
   ]
  },
  {
   "cell_type": "code",
   "execution_count": 12,
   "metadata": {},
   "outputs": [
    {
     "name": "stdout",
     "output_type": "stream",
     "text": [
      "vector de las componenstes: [0.1, 0.4, 0.7, 0.8, 0.9, 1.25, 1.5707963267948966, 0.1353352832366127]\n",
      "Mariz de A: [-4.0 -1.5; 5.0 4.0]\n",
      "Mariz de B: [-1, 1]\n",
      "Mariz de x: [0.2941176470588235, -0.11764705882352937]\n"
     ]
    }
   ],
   "source": [
    "#Vector de la componentes \n",
    "\n",
    "\n",
    "\n",
    "q = [ 0.1, 0.4, 0.7, 0.8, 0.9, 1.25, pi/2, exp(-2)]\n",
    "\n",
    "A = [ -4 -1.5; 5 4]\n",
    "\n",
    "B = [-1 ; 1]\n",
    "\n",
    "# Solucion del sistema de ecuaciones\n",
    "\n",
    "x = A \\ B\n",
    "\n",
    "print(\"vector de las componenstes: \", q, \"\\n\")\n",
    "\n",
    "print(\"Mariz de A: \", A ,\"\\n\")\n",
    "\n",
    "print(\"Mariz de B: \", B,\"\\n\")\n",
    "\n",
    "print(\"Mariz de x: \", x,\"\\n\")\n",
    "\n"
   ]
  },
  {
   "cell_type": "markdown",
   "metadata": {},
   "source": [
    "#### Respuesta 1\n",
    "\n",
    "\n",
    "$$ Vector =\n",
    "\\begin{bmatrix}\n",
    "0.1 & 0.4 & 0.7 & 0.8 & 0.9 & 1.25 & -1.5 & -1.5 & 1.5707963267948966 & 0.1353352832366127\n",
    "\\end{bmatrix}\n",
    "$$\n",
    "\n",
    "$$x =\n",
    "\\begin{bmatrix}\n",
    "0.294 \\\\ \n",
    "-0.118\n",
    "\\end{bmatrix}\n",
    "$$"
   ]
  },
  {
   "cell_type": "markdown",
   "metadata": {},
   "source": [
    "2. >Construya un vector `v` con valores $1, 2, \\ldots,100$; seleccione las componentes $v_i, i\\in \\{10,\\ldots,25\\}$ para formar otro vector `w`. Forme otro vector $z$ con $z_j=v_j, j\\in \\{15, 20, 25, \\ldots,50\\}$.\n"
   ]
  },
  {
   "cell_type": "code",
   "execution_count": 15,
   "metadata": {},
   "outputs": [
    {
     "name": "stdout",
     "output_type": "stream",
     "text": [
      "vectror de V: [1, 2, 3, 4, 5, 6, 7, 8, 9, 10, 11, 12, 13, 14, 15, 16, 17, 18, 19, 20, 21, 22, 23, 24, 25, 26, 27, 28, 29, 30, 31, 32, 33, 34, 35, 36, 37, 38, 39, 40, 41, 42, 43, 44, 45, 46, 47, 48, 49, 50, 51, 52, 53, 54, 55, 56, 57, 58, 59, 60, 61, 62, 63, 64, 65, 66, 67, 68, 69, 70, 71, 72, 73, 74, 75, 76, 77, 78, 79, 80, 81, 82, 83, 84, 85, 86, 87, 88, 89, 90, 91, 92, 93, 94, 95, 96, 97, 98, 99, 100]\n",
      "vectror de w: [10, 11, 12, 13, 14, 15, 16, 17, 18, 19, 20, 21, 22, 23, 24, 25]\n",
      "vectror de z: [15, 20, 25, 30, 35, 40, 45, 50]\n"
     ]
    }
   ],
   "source": [
    "v_1 = collect(1:100)\n",
    "v_2 = collect(10:25)\n",
    "v_3 = collect(15:5:50)\n",
    "\n",
    "print(\"vectror de V: \", v_1 ,\"\\n\")\n",
    "print(\"vectror de w: \", v_2 ,\"\\n\")\n",
    "print(\"vectror de z: \", v_3 ,\"\\n\")\n",
    "\n",
    "\n"
   ]
  },
  {
   "cell_type": "markdown",
   "metadata": {},
   "source": [
    "3. >Defina un vector de ángulos $\\theta\\in\\{0, \\pi/20, 2\\pi/20 \\ldots,2\\pi\\}$ y calcule $0.6\\sin(\\theta-\\pi/4)-0.8\\cos(\\theta)$. Grafique esta función; use una línea de color rojo.\n"
   ]
  },
  {
   "cell_type": "code",
   "execution_count": 33,
   "metadata": {},
   "outputs": [
    {
     "name": "stdout",
     "output_type": "stream",
     "text": [
      "[0.0, 9.0, 18.0, 27.0, 36.0, 45.0, 54.0, 63.0, 72.0, 81.0, 90.0, 99.00000000000001, 108.0, 117.0, 126.0, 135.0, 144.0, 153.0, 162.0, 171.0, 180.0, 189.0, 198.00000000000003, 206.99999999999997, 216.0, 225.0, 234.0, 243.0, 252.0, 261.0, 270.0, 279.0, 288.0, 297.0, 306.0, 315.0, 324.0, 333.0, 342.0, 351.0, 360.0]\n",
      "[-1.2242640687119284, -1.1428218238515941, -1.0332395128798508, -0.8982154159756628, -0.7410742745240966, -0.5656854249492381, -0.37636752280984, -0.1777822031666691, 0.025180704343770066, 0.22752357934329914, 0.4242640687119284, 0.610557768657153, 0.7818175100129786, 0.9338263095687295, 1.062841206191061, 1.1656854249492379, 1.2398265998570406, 1.2834391291277865, 1.2954491275491435, 1.2755608691010787, 1.2242640687119286, 1.1428218238515941, 1.033239512879851, 0.8982154159756629, 0.7410742745240966, 0.5656854249492382, 0.3763675228098402, 0.17778220316666918, -0.025180704343769927, -0.227523579343299, -0.4242640687119283, -0.6105577686571529, -0.7818175100129785, -0.9338263095687294, -1.0628412061910608, -1.1656854249492379, -1.2398265998570406, -1.2834391291277865, -1.2954491275491438, -1.2755608691010787, -1.2242640687119286]"
     ]
    },
    {
     "data": {
      "image/png": "[encoded data removed]",
      "image/svg+xml": [
       "<?xml version=\"1.0\" encoding=\"utf-8\"?>\n",
       "<svg xmlns=\"http://www.w3.org/2000/svg\" xmlns:xlink=\"http://www.w3.org/1999/xlink\" width=\"600\" height=\"400\" viewBox=\"0 0 2400 1600\">\n",
       "<defs>\n",
       "  <clipPath id=\"clip890\">\n",
       "    <rect x=\"0\" y=\"0\" width=\"2400\" height=\"1600\"/>\n",
       "  </clipPath>\n",
       "</defs>\n",
       "<path clip-path=\"url(#clip890)\" d=\"M0 1600 L2400 1600 L2400 0 L0 0  Z\" fill=\"#ffffff\" fill-rule=\"evenodd\" fill-opacity=\"1\"/>\n",
       "<defs>\n",
       "  <clipPath id=\"clip891\">\n",
       "    <rect x=\"480\" y=\"0\" width=\"1681\" height=\"1600\"/>\n",
       "  </clipPath>\n",
       "</defs>\n",
       "<path clip-path=\"url(#clip890)\" d=\"M193.936 1486.45 L2352.76 1486.45 L2352.76 47.2441 L193.936 47.2441  Z\" fill=\"#ffffff\" fill-rule=\"evenodd\" fill-opacity=\"1\"/>\n",
       "<defs>\n",
       "  <clipPath id=\"clip892\">\n",
       "    <rect x=\"193\" y=\"47\" width=\"2160\" height=\"1440\"/>\n",
       "  </clipPath>\n",
       "</defs>\n",
       "<polyline clip-path=\"url(#clip892)\" style=\"stroke:#000000; stroke-linecap:round; stroke-linejoin:round; stroke-width:2; stroke-opacity:0.1; fill:none\" points=\"255.035,1486.45 255.035,47.2441 \"/>\n",
       "<polyline clip-path=\"url(#clip892)\" style=\"stroke:#000000; stroke-linecap:round; stroke-linejoin:round; stroke-width:2; stroke-opacity:0.1; fill:none\" points=\"820.763,1486.45 820.763,47.2441 \"/>\n",
       "<polyline clip-path=\"url(#clip892)\" style=\"stroke:#000000; stroke-linecap:round; stroke-linejoin:round; stroke-width:2; stroke-opacity:0.1; fill:none\" points=\"1386.49,1486.45 1386.49,47.2441 \"/>\n",
       "<polyline clip-path=\"url(#clip892)\" style=\"stroke:#000000; stroke-linecap:round; stroke-linejoin:round; stroke-width:2; stroke-opacity:0.1; fill:none\" points=\"1952.22,1486.45 1952.22,47.2441 \"/>\n",
       "<polyline clip-path=\"url(#clip892)\" style=\"stroke:#000000; stroke-linecap:round; stroke-linejoin:round; stroke-width:2; stroke-opacity:0.1; fill:none\" points=\"193.936,1290.89 2352.76,1290.89 \"/>\n",
       "<polyline clip-path=\"url(#clip892)\" style=\"stroke:#000000; stroke-linecap:round; stroke-linejoin:round; stroke-width:2; stroke-opacity:0.1; fill:none\" points=\"193.936,1028.87 2352.76,1028.87 \"/>\n",
       "<polyline clip-path=\"url(#clip892)\" style=\"stroke:#000000; stroke-linecap:round; stroke-linejoin:round; stroke-width:2; stroke-opacity:0.1; fill:none\" points=\"193.936,766.846 2352.76,766.846 \"/>\n",
       "<polyline clip-path=\"url(#clip892)\" style=\"stroke:#000000; stroke-linecap:round; stroke-linejoin:round; stroke-width:2; stroke-opacity:0.1; fill:none\" points=\"193.936,504.825 2352.76,504.825 \"/>\n",
       "<polyline clip-path=\"url(#clip892)\" style=\"stroke:#000000; stroke-linecap:round; stroke-linejoin:round; stroke-width:2; stroke-opacity:0.1; fill:none\" points=\"193.936,242.804 2352.76,242.804 \"/>\n",
       "<polyline clip-path=\"url(#clip890)\" style=\"stroke:#000000; stroke-linecap:round; stroke-linejoin:round; stroke-width:4; stroke-opacity:1; fill:none\" points=\"193.936,1486.45 2352.76,1486.45 \"/>\n",
       "<polyline clip-path=\"url(#clip890)\" style=\"stroke:#000000; stroke-linecap:round; stroke-linejoin:round; stroke-width:4; stroke-opacity:1; fill:none\" points=\"255.035,1486.45 255.035,1467.55 \"/>\n",
       "<polyline clip-path=\"url(#clip890)\" style=\"stroke:#000000; stroke-linecap:round; stroke-linejoin:round; stroke-width:4; stroke-opacity:1; fill:none\" points=\"820.763,1486.45 820.763,1467.55 \"/>\n",
       "<polyline clip-path=\"url(#clip890)\" style=\"stroke:#000000; stroke-linecap:round; stroke-linejoin:round; stroke-width:4; stroke-opacity:1; fill:none\" points=\"1386.49,1486.45 1386.49,1467.55 \"/>\n",
       "<polyline clip-path=\"url(#clip890)\" style=\"stroke:#000000; stroke-linecap:round; stroke-linejoin:round; stroke-width:4; stroke-opacity:1; fill:none\" points=\"1952.22,1486.45 1952.22,1467.55 \"/>\n",
       "<path clip-path=\"url(#clip890)\" d=\"M255.035 1517.37 Q251.424 1517.37 249.595 1520.93 Q247.789 1524.47 247.789 1531.6 Q247.789 1538.71 249.595 1542.27 Q251.424 1545.82 255.035 1545.82 Q258.669 1545.82 260.474 1542.27 Q262.303 1538.71 262.303 1531.6 Q262.303 1524.47 260.474 1520.93 Q258.669 1517.37 255.035 1517.37 M255.035 1513.66 Q260.845 1513.66 263.9 1518.27 Q266.979 1522.85 266.979 1531.6 Q266.979 1540.33 263.9 1544.94 Q260.845 1549.52 255.035 1549.52 Q249.225 1549.52 246.146 1544.94 Q243.09 1540.33 243.09 1531.6 Q243.09 1522.85 246.146 1518.27 Q249.225 1513.66 255.035 1513.66 Z\" fill=\"#000000\" fill-rule=\"nonzero\" fill-opacity=\"1\" /><path clip-path=\"url(#clip890)\" d=\"M780.37 1544.91 L788.009 1544.91 L788.009 1518.55 L779.699 1520.21 L779.699 1515.95 L787.962 1514.29 L792.638 1514.29 L792.638 1544.91 L800.277 1544.91 L800.277 1548.85 L780.37 1548.85 L780.37 1544.91 Z\" fill=\"#000000\" fill-rule=\"nonzero\" fill-opacity=\"1\" /><path clip-path=\"url(#clip890)\" d=\"M819.722 1517.37 Q816.11 1517.37 814.282 1520.93 Q812.476 1524.47 812.476 1531.6 Q812.476 1538.71 814.282 1542.27 Q816.11 1545.82 819.722 1545.82 Q823.356 1545.82 825.161 1542.27 Q826.99 1538.71 826.99 1531.6 Q826.99 1524.47 825.161 1520.93 Q823.356 1517.37 819.722 1517.37 M819.722 1513.66 Q825.532 1513.66 828.587 1518.27 Q831.666 1522.85 831.666 1531.6 Q831.666 1540.33 828.587 1544.94 Q825.532 1549.52 819.722 1549.52 Q813.911 1549.52 810.833 1544.94 Q807.777 1540.33 807.777 1531.6 Q807.777 1522.85 810.833 1518.27 Q813.911 1513.66 819.722 1513.66 Z\" fill=\"#000000\" fill-rule=\"nonzero\" fill-opacity=\"1\" /><path clip-path=\"url(#clip890)\" d=\"M849.883 1517.37 Q846.272 1517.37 844.444 1520.93 Q842.638 1524.47 842.638 1531.6 Q842.638 1538.71 844.444 1542.27 Q846.272 1545.82 849.883 1545.82 Q853.518 1545.82 855.323 1542.27 Q857.152 1538.71 857.152 1531.6 Q857.152 1524.47 855.323 1520.93 Q853.518 1517.37 849.883 1517.37 M849.883 1513.66 Q855.694 1513.66 858.749 1518.27 Q861.828 1522.85 861.828 1531.6 Q861.828 1540.33 858.749 1544.94 Q855.694 1549.52 849.883 1549.52 Q844.073 1549.52 840.995 1544.94 Q837.939 1540.33 837.939 1531.6 Q837.939 1522.85 840.995 1518.27 Q844.073 1513.66 849.883 1513.66 Z\" fill=\"#000000\" fill-rule=\"nonzero\" fill-opacity=\"1\" /><path clip-path=\"url(#clip890)\" d=\"M1350.18 1544.91 L1366.5 1544.91 L1366.5 1548.85 L1344.56 1548.85 L1344.56 1544.91 Q1347.22 1542.16 1351.8 1537.53 Q1356.41 1532.88 1357.59 1531.53 Q1359.84 1529.01 1360.72 1527.27 Q1361.62 1525.51 1361.62 1523.82 Q1361.62 1521.07 1359.67 1519.33 Q1357.75 1517.6 1354.65 1517.6 Q1352.45 1517.6 1350 1518.36 Q1347.57 1519.13 1344.79 1520.68 L1344.79 1515.95 Q1347.61 1514.82 1350.07 1514.24 Q1352.52 1513.66 1354.56 1513.66 Q1359.93 1513.66 1363.12 1516.35 Q1366.32 1519.03 1366.32 1523.52 Q1366.32 1525.65 1365.51 1527.57 Q1364.72 1529.47 1362.61 1532.07 Q1362.04 1532.74 1358.93 1535.95 Q1355.83 1539.15 1350.18 1544.91 Z\" fill=\"#000000\" fill-rule=\"nonzero\" fill-opacity=\"1\" /><path clip-path=\"url(#clip890)\" d=\"M1386.32 1517.37 Q1382.71 1517.37 1380.88 1520.93 Q1379.07 1524.47 1379.07 1531.6 Q1379.07 1538.71 1380.88 1542.27 Q1382.71 1545.82 1386.32 1545.82 Q1389.95 1545.82 1391.76 1542.27 Q1393.59 1538.71 1393.59 1531.6 Q1393.59 1524.47 1391.76 1520.93 Q1389.95 1517.37 1386.32 1517.37 M1386.32 1513.66 Q1392.13 1513.66 1395.18 1518.27 Q1398.26 1522.85 1398.26 1531.6 Q1398.26 1540.33 1395.18 1544.94 Q1392.13 1549.52 1386.32 1549.52 Q1380.51 1549.52 1377.43 1544.94 Q1374.37 1540.33 1374.37 1531.6 Q1374.37 1522.85 1377.43 1518.27 Q1380.51 1513.66 1386.32 1513.66 Z\" fill=\"#000000\" fill-rule=\"nonzero\" fill-opacity=\"1\" /><path clip-path=\"url(#clip890)\" d=\"M1416.48 1517.37 Q1412.87 1517.37 1411.04 1520.93 Q1409.23 1524.47 1409.23 1531.6 Q1409.23 1538.71 1411.04 1542.27 Q1412.87 1545.82 1416.48 1545.82 Q1420.11 1545.82 1421.92 1542.27 Q1423.75 1538.71 1423.75 1531.6 Q1423.75 1524.47 1421.92 1520.93 Q1420.11 1517.37 1416.48 1517.37 M1416.48 1513.66 Q1422.29 1513.66 1425.35 1518.27 Q1428.42 1522.85 1428.42 1531.6 Q1428.42 1540.33 1425.35 1544.94 Q1422.29 1549.52 1416.48 1549.52 Q1410.67 1549.52 1407.59 1544.94 Q1404.54 1540.33 1404.54 1531.6 Q1404.54 1522.85 1407.59 1518.27 Q1410.67 1513.66 1416.48 1513.66 Z\" fill=\"#000000\" fill-rule=\"nonzero\" fill-opacity=\"1\" /><path clip-path=\"url(#clip890)\" d=\"M1925.98 1530.21 Q1929.34 1530.93 1931.21 1533.2 Q1933.11 1535.47 1933.11 1538.8 Q1933.11 1543.92 1929.59 1546.72 Q1926.07 1549.52 1919.59 1549.52 Q1917.42 1549.52 1915.1 1549.08 Q1912.81 1548.66 1910.36 1547.81 L1910.36 1543.29 Q1912.3 1544.43 1914.62 1545.01 Q1916.93 1545.58 1919.45 1545.58 Q1923.85 1545.58 1926.14 1543.85 Q1928.46 1542.11 1928.46 1538.8 Q1928.46 1535.75 1926.31 1534.03 Q1924.18 1532.3 1920.36 1532.3 L1916.33 1532.3 L1916.33 1528.45 L1920.54 1528.45 Q1923.99 1528.45 1925.82 1527.09 Q1927.65 1525.7 1927.65 1523.11 Q1927.65 1520.45 1925.75 1519.03 Q1923.88 1517.6 1920.36 1517.6 Q1918.44 1517.6 1916.24 1518.01 Q1914.04 1518.43 1911.4 1519.31 L1911.4 1515.14 Q1914.06 1514.4 1916.38 1514.03 Q1918.71 1513.66 1920.77 1513.66 Q1926.1 1513.66 1929.2 1516.09 Q1932.3 1518.5 1932.3 1522.62 Q1932.3 1525.49 1930.66 1527.48 Q1929.01 1529.45 1925.98 1530.21 Z\" fill=\"#000000\" fill-rule=\"nonzero\" fill-opacity=\"1\" /><path clip-path=\"url(#clip890)\" d=\"M1951.98 1517.37 Q1948.37 1517.37 1946.54 1520.93 Q1944.73 1524.47 1944.73 1531.6 Q1944.73 1538.71 1946.54 1542.27 Q1948.37 1545.82 1951.98 1545.82 Q1955.61 1545.82 1957.42 1542.27 Q1959.25 1538.71 1959.25 1531.6 Q1959.25 1524.47 1957.42 1520.93 Q1955.61 1517.37 1951.98 1517.37 M1951.98 1513.66 Q1957.79 1513.66 1960.84 1518.27 Q1963.92 1522.85 1963.92 1531.6 Q1963.92 1540.33 1960.84 1544.94 Q1957.79 1549.52 1951.98 1549.52 Q1946.17 1549.52 1943.09 1544.94 Q1940.03 1540.33 1940.03 1531.6 Q1940.03 1522.85 1943.09 1518.27 Q1946.17 1513.66 1951.98 1513.66 Z\" fill=\"#000000\" fill-rule=\"nonzero\" fill-opacity=\"1\" /><path clip-path=\"url(#clip890)\" d=\"M1982.14 1517.37 Q1978.53 1517.37 1976.7 1520.93 Q1974.89 1524.47 1974.89 1531.6 Q1974.89 1538.71 1976.7 1542.27 Q1978.53 1545.82 1982.14 1545.82 Q1985.77 1545.82 1987.58 1542.27 Q1989.41 1538.71 1989.41 1531.6 Q1989.41 1524.47 1987.58 1520.93 Q1985.77 1517.37 1982.14 1517.37 M1982.14 1513.66 Q1987.95 1513.66 1991 1518.27 Q1994.08 1522.85 1994.08 1531.6 Q1994.08 1540.33 1991 1544.94 Q1987.95 1549.52 1982.14 1549.52 Q1976.33 1549.52 1973.25 1544.94 Q1970.19 1540.33 1970.19 1531.6 Q1970.19 1522.85 1973.25 1518.27 Q1976.33 1513.66 1982.14 1513.66 Z\" fill=\"#000000\" fill-rule=\"nonzero\" fill-opacity=\"1\" /><polyline clip-path=\"url(#clip890)\" style=\"stroke:#000000; stroke-linecap:round; stroke-linejoin:round; stroke-width:4; stroke-opacity:1; fill:none\" points=\"193.936,1486.45 193.936,47.2441 \"/>\n",
       "<polyline clip-path=\"url(#clip890)\" style=\"stroke:#000000; stroke-linecap:round; stroke-linejoin:round; stroke-width:4; stroke-opacity:1; fill:none\" points=\"193.936,1290.89 212.834,1290.89 \"/>\n",
       "<polyline clip-path=\"url(#clip890)\" style=\"stroke:#000000; stroke-linecap:round; stroke-linejoin:round; stroke-width:4; stroke-opacity:1; fill:none\" points=\"193.936,1028.87 212.834,1028.87 \"/>\n",
       "<polyline clip-path=\"url(#clip890)\" style=\"stroke:#000000; stroke-linecap:round; stroke-linejoin:round; stroke-width:4; stroke-opacity:1; fill:none\" points=\"193.936,766.846 212.834,766.846 \"/>\n",
       "<polyline clip-path=\"url(#clip890)\" style=\"stroke:#000000; stroke-linecap:round; stroke-linejoin:round; stroke-width:4; stroke-opacity:1; fill:none\" points=\"193.936,504.825 212.834,504.825 \"/>\n",
       "<polyline clip-path=\"url(#clip890)\" style=\"stroke:#000000; stroke-linecap:round; stroke-linejoin:round; stroke-width:4; stroke-opacity:1; fill:none\" points=\"193.936,242.804 212.834,242.804 \"/>\n",
       "<path clip-path=\"url(#clip890)\" d=\"M50.9921 1291.34 L80.6679 1291.34 L80.6679 1295.27 L50.9921 1295.27 L50.9921 1291.34 Z\" fill=\"#000000\" fill-rule=\"nonzero\" fill-opacity=\"1\" /><path clip-path=\"url(#clip890)\" d=\"M91.5706 1304.23 L99.2095 1304.23 L99.2095 1277.87 L90.8993 1279.53 L90.8993 1275.27 L99.1632 1273.61 L103.839 1273.61 L103.839 1304.23 L111.478 1304.23 L111.478 1308.17 L91.5706 1308.17 L91.5706 1304.23 Z\" fill=\"#000000\" fill-rule=\"nonzero\" fill-opacity=\"1\" /><path clip-path=\"url(#clip890)\" d=\"M120.922 1302.29 L125.807 1302.29 L125.807 1308.17 L120.922 1308.17 L120.922 1302.29 Z\" fill=\"#000000\" fill-rule=\"nonzero\" fill-opacity=\"1\" /><path clip-path=\"url(#clip890)\" d=\"M145.992 1276.69 Q142.381 1276.69 140.552 1280.25 Q138.746 1283.79 138.746 1290.92 Q138.746 1298.03 140.552 1301.59 Q142.381 1305.14 145.992 1305.14 Q149.626 1305.14 151.431 1301.59 Q153.26 1298.03 153.26 1290.92 Q153.26 1283.79 151.431 1280.25 Q149.626 1276.69 145.992 1276.69 M145.992 1272.98 Q151.802 1272.98 154.857 1277.59 Q157.936 1282.17 157.936 1290.92 Q157.936 1299.65 154.857 1304.26 Q151.802 1308.84 145.992 1308.84 Q140.181 1308.84 137.103 1304.26 Q134.047 1299.65 134.047 1290.92 Q134.047 1282.17 137.103 1277.59 Q140.181 1272.98 145.992 1272.98 Z\" fill=\"#000000\" fill-rule=\"nonzero\" fill-opacity=\"1\" /><path clip-path=\"url(#clip890)\" d=\"M51.9875 1029.32 L81.6633 1029.32 L81.6633 1033.25 L51.9875 1033.25 L51.9875 1029.32 Z\" fill=\"#000000\" fill-rule=\"nonzero\" fill-opacity=\"1\" /><path clip-path=\"url(#clip890)\" d=\"M101.756 1014.67 Q98.1447 1014.67 96.316 1018.23 Q94.5104 1021.77 94.5104 1028.9 Q94.5104 1036.01 96.316 1039.57 Q98.1447 1043.11 101.756 1043.11 Q105.39 1043.11 107.196 1039.57 Q109.024 1036.01 109.024 1028.9 Q109.024 1021.77 107.196 1018.23 Q105.39 1014.67 101.756 1014.67 M101.756 1010.96 Q107.566 1010.96 110.621 1015.57 Q113.7 1020.15 113.7 1028.9 Q113.7 1037.63 110.621 1042.23 Q107.566 1046.82 101.756 1046.82 Q95.9456 1046.82 92.8669 1042.23 Q89.8114 1037.63 89.8114 1028.9 Q89.8114 1020.15 92.8669 1015.57 Q95.9456 1010.96 101.756 1010.96 Z\" fill=\"#000000\" fill-rule=\"nonzero\" fill-opacity=\"1\" /><path clip-path=\"url(#clip890)\" d=\"M121.918 1040.27 L126.802 1040.27 L126.802 1046.15 L121.918 1046.15 L121.918 1040.27 Z\" fill=\"#000000\" fill-rule=\"nonzero\" fill-opacity=\"1\" /><path clip-path=\"url(#clip890)\" d=\"M137.033 1011.59 L155.39 1011.59 L155.39 1015.52 L141.316 1015.52 L141.316 1023.99 Q142.334 1023.65 143.353 1023.49 Q144.371 1023.3 145.39 1023.3 Q151.177 1023.3 154.556 1026.47 Q157.936 1029.64 157.936 1035.06 Q157.936 1040.64 154.464 1043.74 Q150.992 1046.82 144.672 1046.82 Q142.496 1046.82 140.228 1046.45 Q137.982 1046.08 135.575 1045.34 L135.575 1040.64 Q137.658 1041.77 139.881 1042.33 Q142.103 1042.88 144.58 1042.88 Q148.584 1042.88 150.922 1040.78 Q153.26 1038.67 153.26 1035.06 Q153.26 1031.45 150.922 1029.34 Q148.584 1027.24 144.58 1027.24 Q142.705 1027.24 140.83 1027.65 Q138.978 1028.07 137.033 1028.95 L137.033 1011.59 Z\" fill=\"#000000\" fill-rule=\"nonzero\" fill-opacity=\"1\" /><path clip-path=\"url(#clip890)\" d=\"M100.76 752.645 Q97.1493 752.645 95.3206 756.209 Q93.515 759.751 93.515 766.881 Q93.515 773.987 95.3206 777.552 Q97.1493 781.094 100.76 781.094 Q104.395 781.094 106.2 777.552 Q108.029 773.987 108.029 766.881 Q108.029 759.751 106.2 756.209 Q104.395 752.645 100.76 752.645 M100.76 748.941 Q106.571 748.941 109.626 753.547 Q112.705 758.131 112.705 766.881 Q112.705 775.608 109.626 780.214 Q106.571 784.797 100.76 784.797 Q94.9502 784.797 91.8715 780.214 Q88.816 775.608 88.816 766.881 Q88.816 758.131 91.8715 753.547 Q94.9502 748.941 100.76 748.941 Z\" fill=\"#000000\" fill-rule=\"nonzero\" fill-opacity=\"1\" /><path clip-path=\"url(#clip890)\" d=\"M120.922 778.246 L125.807 778.246 L125.807 784.126 L120.922 784.126 L120.922 778.246 Z\" fill=\"#000000\" fill-rule=\"nonzero\" fill-opacity=\"1\" /><path clip-path=\"url(#clip890)\" d=\"M145.992 752.645 Q142.381 752.645 140.552 756.209 Q138.746 759.751 138.746 766.881 Q138.746 773.987 140.552 777.552 Q142.381 781.094 145.992 781.094 Q149.626 781.094 151.431 777.552 Q153.26 773.987 153.26 766.881 Q153.26 759.751 151.431 756.209 Q149.626 752.645 145.992 752.645 M145.992 748.941 Q151.802 748.941 154.857 753.547 Q157.936 758.131 157.936 766.881 Q157.936 775.608 154.857 780.214 Q151.802 784.797 145.992 784.797 Q140.181 784.797 137.103 780.214 Q134.047 775.608 134.047 766.881 Q134.047 758.131 137.103 753.547 Q140.181 748.941 145.992 748.941 Z\" fill=\"#000000\" fill-rule=\"nonzero\" fill-opacity=\"1\" /><path clip-path=\"url(#clip890)\" d=\"M101.756 490.624 Q98.1447 490.624 96.316 494.188 Q94.5104 497.73 94.5104 504.86 Q94.5104 511.966 96.316 515.531 Q98.1447 519.073 101.756 519.073 Q105.39 519.073 107.196 515.531 Q109.024 511.966 109.024 504.86 Q109.024 497.73 107.196 494.188 Q105.39 490.624 101.756 490.624 M101.756 486.92 Q107.566 486.92 110.621 491.526 Q113.7 496.11 113.7 504.86 Q113.7 513.587 110.621 518.193 Q107.566 522.776 101.756 522.776 Q95.9456 522.776 92.8669 518.193 Q89.8114 513.587 89.8114 504.86 Q89.8114 496.11 92.8669 491.526 Q95.9456 486.92 101.756 486.92 Z\" fill=\"#000000\" fill-rule=\"nonzero\" fill-opacity=\"1\" /><path clip-path=\"url(#clip890)\" d=\"M121.918 516.225 L126.802 516.225 L126.802 522.105 L121.918 522.105 L121.918 516.225 Z\" fill=\"#000000\" fill-rule=\"nonzero\" fill-opacity=\"1\" /><path clip-path=\"url(#clip890)\" d=\"M137.033 487.545 L155.39 487.545 L155.39 491.48 L141.316 491.48 L141.316 499.952 Q142.334 499.605 143.353 499.443 Q144.371 499.258 145.39 499.258 Q151.177 499.258 154.556 502.429 Q157.936 505.6 157.936 511.017 Q157.936 516.596 154.464 519.698 Q150.992 522.776 144.672 522.776 Q142.496 522.776 140.228 522.406 Q137.982 522.036 135.575 521.295 L135.575 516.596 Q137.658 517.73 139.881 518.286 Q142.103 518.841 144.58 518.841 Q148.584 518.841 150.922 516.735 Q153.26 514.628 153.26 511.017 Q153.26 507.406 150.922 505.3 Q148.584 503.193 144.58 503.193 Q142.705 503.193 140.83 503.61 Q138.978 504.026 137.033 504.906 L137.033 487.545 Z\" fill=\"#000000\" fill-rule=\"nonzero\" fill-opacity=\"1\" /><path clip-path=\"url(#clip890)\" d=\"M91.5706 256.149 L99.2095 256.149 L99.2095 229.783 L90.8993 231.45 L90.8993 227.191 L99.1632 225.524 L103.839 225.524 L103.839 256.149 L111.478 256.149 L111.478 260.084 L91.5706 260.084 L91.5706 256.149 Z\" fill=\"#000000\" fill-rule=\"nonzero\" fill-opacity=\"1\" /><path clip-path=\"url(#clip890)\" d=\"M120.922 254.204 L125.807 254.204 L125.807 260.084 L120.922 260.084 L120.922 254.204 Z\" fill=\"#000000\" fill-rule=\"nonzero\" fill-opacity=\"1\" /><path clip-path=\"url(#clip890)\" d=\"M145.992 228.603 Q142.381 228.603 140.552 232.168 Q138.746 235.709 138.746 242.839 Q138.746 249.945 140.552 253.51 Q142.381 257.052 145.992 257.052 Q149.626 257.052 151.431 253.51 Q153.26 249.945 153.26 242.839 Q153.26 235.709 151.431 232.168 Q149.626 228.603 145.992 228.603 M145.992 224.899 Q151.802 224.899 154.857 229.505 Q157.936 234.089 157.936 242.839 Q157.936 251.566 154.857 256.172 Q151.802 260.755 145.992 260.755 Q140.181 260.755 137.103 256.172 Q134.047 251.566 134.047 242.839 Q134.047 234.089 137.103 229.505 Q140.181 224.899 145.992 224.899 Z\" fill=\"#000000\" fill-rule=\"nonzero\" fill-opacity=\"1\" /><polyline clip-path=\"url(#clip892)\" style=\"stroke:#ff0000; stroke-linecap:round; stroke-linejoin:round; stroke-width:4; stroke-opacity:1; fill:none\" points=\"255.035,1408.41 305.95,1365.73 356.866,1308.31 407.781,1237.55 458.697,1155.2 509.612,1063.29 560.528,964.078 611.444,860.011 662.359,753.65 713.275,647.614 764.19,544.514 815.106,446.888 866.021,357.141 916.937,277.482 967.853,209.873 1018.77,155.978 1069.68,117.125 1120.6,94.27 1171.51,87.9763 1222.43,98.3986 1273.35,125.28 1324.26,167.959 1375.18,225.385 1426.09,296.143 1477.01,378.492 1527.92,470.403 1578.84,569.614 1629.75,673.681 1680.67,780.042 1731.59,886.078 1782.5,989.178 1833.42,1086.8 1884.33,1176.55 1935.25,1256.21 1986.16,1323.82 2037.08,1377.71 2087.99,1416.57 2138.91,1439.42 2189.83,1445.72 2240.74,1435.29 2291.66,1408.41 \"/>\n",
       "<path clip-path=\"url(#clip890)\" d=\"M2012.48 198.898 L2280.8 198.898 L2280.8 95.2176 L2012.48 95.2176  Z\" fill=\"#ffffff\" fill-rule=\"evenodd\" fill-opacity=\"1\"/>\n",
       "<polyline clip-path=\"url(#clip890)\" style=\"stroke:#000000; stroke-linecap:round; stroke-linejoin:round; stroke-width:4; stroke-opacity:1; fill:none\" points=\"2012.48,198.898 2280.8,198.898 2280.8,95.2176 2012.48,95.2176 2012.48,198.898 \"/>\n",
       "<polyline clip-path=\"url(#clip890)\" style=\"stroke:#ff0000; stroke-linecap:round; stroke-linejoin:round; stroke-width:4; stroke-opacity:1; fill:none\" points=\"2036.47,147.058 2180.39,147.058 \"/>\n",
       "<path clip-path=\"url(#clip890)\" d=\"M2218.22 166.745 Q2216.42 171.375 2214.7 172.787 Q2212.99 174.199 2210.12 174.199 L2206.72 174.199 L2206.72 170.634 L2209.22 170.634 Q2210.98 170.634 2211.95 169.8 Q2212.92 168.967 2214.1 165.865 L2214.86 163.921 L2204.38 138.412 L2208.89 138.412 L2216.99 158.689 L2225.1 138.412 L2229.61 138.412 L2218.22 166.745 Z\" fill=\"#000000\" fill-rule=\"nonzero\" fill-opacity=\"1\" /><path clip-path=\"url(#clip890)\" d=\"M2236.9 160.402 L2244.54 160.402 L2244.54 134.037 L2236.23 135.703 L2236.23 131.444 L2244.49 129.778 L2249.17 129.778 L2249.17 160.402 L2256.81 160.402 L2256.81 164.338 L2236.9 164.338 L2236.9 160.402 Z\" fill=\"#000000\" fill-rule=\"nonzero\" fill-opacity=\"1\" /></svg>\n"
      ],
      "text/html": [
       "<?xml version=\"1.0\" encoding=\"utf-8\"?>\n",
       "<svg xmlns=\"http://www.w3.org/2000/svg\" xmlns:xlink=\"http://www.w3.org/1999/xlink\" width=\"600\" height=\"400\" viewBox=\"0 0 2400 1600\">\n",
       "<defs>\n",
       "  <clipPath id=\"clip940\">\n",
       "    <rect x=\"0\" y=\"0\" width=\"2400\" height=\"1600\"/>\n",
       "  </clipPath>\n",
       "</defs>\n",
       "<path clip-path=\"url(#clip940)\" d=\"M0 1600 L2400 1600 L2400 0 L0 0  Z\" fill=\"#ffffff\" fill-rule=\"evenodd\" fill-opacity=\"1\"/>\n",
       "<defs>\n",
       "  <clipPath id=\"clip941\">\n",
       "    <rect x=\"480\" y=\"0\" width=\"1681\" height=\"1600\"/>\n",
       "  </clipPath>\n",
       "</defs>\n",
       "<path clip-path=\"url(#clip940)\" d=\"M193.936 1486.45 L2352.76 1486.45 L2352.76 47.2441 L193.936 47.2441  Z\" fill=\"#ffffff\" fill-rule=\"evenodd\" fill-opacity=\"1\"/>\n",
       "<defs>\n",
       "  <clipPath id=\"clip942\">\n",
       "    <rect x=\"193\" y=\"47\" width=\"2160\" height=\"1440\"/>\n",
       "  </clipPath>\n",
       "</defs>\n",
       "<polyline clip-path=\"url(#clip942)\" style=\"stroke:#000000; stroke-linecap:round; stroke-linejoin:round; stroke-width:2; stroke-opacity:0.1; fill:none\" points=\"255.035,1486.45 255.035,47.2441 \"/>\n",
       "<polyline clip-path=\"url(#clip942)\" style=\"stroke:#000000; stroke-linecap:round; stroke-linejoin:round; stroke-width:2; stroke-opacity:0.1; fill:none\" points=\"820.763,1486.45 820.763,47.2441 \"/>\n",
       "<polyline clip-path=\"url(#clip942)\" style=\"stroke:#000000; stroke-linecap:round; stroke-linejoin:round; stroke-width:2; stroke-opacity:0.1; fill:none\" points=\"1386.49,1486.45 1386.49,47.2441 \"/>\n",
       "<polyline clip-path=\"url(#clip942)\" style=\"stroke:#000000; stroke-linecap:round; stroke-linejoin:round; stroke-width:2; stroke-opacity:0.1; fill:none\" points=\"1952.22,1486.45 1952.22,47.2441 \"/>\n",
       "<polyline clip-path=\"url(#clip942)\" style=\"stroke:#000000; stroke-linecap:round; stroke-linejoin:round; stroke-width:2; stroke-opacity:0.1; fill:none\" points=\"193.936,1290.89 2352.76,1290.89 \"/>\n",
       "<polyline clip-path=\"url(#clip942)\" style=\"stroke:#000000; stroke-linecap:round; stroke-linejoin:round; stroke-width:2; stroke-opacity:0.1; fill:none\" points=\"193.936,1028.87 2352.76,1028.87 \"/>\n",
       "<polyline clip-path=\"url(#clip942)\" style=\"stroke:#000000; stroke-linecap:round; stroke-linejoin:round; stroke-width:2; stroke-opacity:0.1; fill:none\" points=\"193.936,766.846 2352.76,766.846 \"/>\n",
       "<polyline clip-path=\"url(#clip942)\" style=\"stroke:#000000; stroke-linecap:round; stroke-linejoin:round; stroke-width:2; stroke-opacity:0.1; fill:none\" points=\"193.936,504.825 2352.76,504.825 \"/>\n",
       "<polyline clip-path=\"url(#clip942)\" style=\"stroke:#000000; stroke-linecap:round; stroke-linejoin:round; stroke-width:2; stroke-opacity:0.1; fill:none\" points=\"193.936,242.804 2352.76,242.804 \"/>\n",
       "<polyline clip-path=\"url(#clip940)\" style=\"stroke:#000000; stroke-linecap:round; stroke-linejoin:round; stroke-width:4; stroke-opacity:1; fill:none\" points=\"193.936,1486.45 2352.76,1486.45 \"/>\n",
       "<polyline clip-path=\"url(#clip940)\" style=\"stroke:#000000; stroke-linecap:round; stroke-linejoin:round; stroke-width:4; stroke-opacity:1; fill:none\" points=\"255.035,1486.45 255.035,1467.55 \"/>\n",
       "<polyline clip-path=\"url(#clip940)\" style=\"stroke:#000000; stroke-linecap:round; stroke-linejoin:round; stroke-width:4; stroke-opacity:1; fill:none\" points=\"820.763,1486.45 820.763,1467.55 \"/>\n",
       "<polyline clip-path=\"url(#clip940)\" style=\"stroke:#000000; stroke-linecap:round; stroke-linejoin:round; stroke-width:4; stroke-opacity:1; fill:none\" points=\"1386.49,1486.45 1386.49,1467.55 \"/>\n",
       "<polyline clip-path=\"url(#clip940)\" style=\"stroke:#000000; stroke-linecap:round; stroke-linejoin:round; stroke-width:4; stroke-opacity:1; fill:none\" points=\"1952.22,1486.45 1952.22,1467.55 \"/>\n",
       "<path clip-path=\"url(#clip940)\" d=\"M255.035 1517.37 Q251.424 1517.37 249.595 1520.93 Q247.789 1524.47 247.789 1531.6 Q247.789 1538.71 249.595 1542.27 Q251.424 1545.82 255.035 1545.82 Q258.669 1545.82 260.474 1542.27 Q262.303 1538.71 262.303 1531.6 Q262.303 1524.47 260.474 1520.93 Q258.669 1517.37 255.035 1517.37 M255.035 1513.66 Q260.845 1513.66 263.9 1518.27 Q266.979 1522.85 266.979 1531.6 Q266.979 1540.33 263.9 1544.94 Q260.845 1549.52 255.035 1549.52 Q249.225 1549.52 246.146 1544.94 Q243.09 1540.33 243.09 1531.6 Q243.09 1522.85 246.146 1518.27 Q249.225 1513.66 255.035 1513.66 Z\" fill=\"#000000\" fill-rule=\"nonzero\" fill-opacity=\"1\" /><path clip-path=\"url(#clip940)\" d=\"M780.37 1544.91 L788.009 1544.91 L788.009 1518.55 L779.699 1520.21 L779.699 1515.95 L787.962 1514.29 L792.638 1514.29 L792.638 1544.91 L800.277 1544.91 L800.277 1548.85 L780.37 1548.85 L780.37 1544.91 Z\" fill=\"#000000\" fill-rule=\"nonzero\" fill-opacity=\"1\" /><path clip-path=\"url(#clip940)\" d=\"M819.722 1517.37 Q816.11 1517.37 814.282 1520.93 Q812.476 1524.47 812.476 1531.6 Q812.476 1538.71 814.282 1542.27 Q816.11 1545.82 819.722 1545.82 Q823.356 1545.82 825.161 1542.27 Q826.99 1538.71 826.99 1531.6 Q826.99 1524.47 825.161 1520.93 Q823.356 1517.37 819.722 1517.37 M819.722 1513.66 Q825.532 1513.66 828.587 1518.27 Q831.666 1522.85 831.666 1531.6 Q831.666 1540.33 828.587 1544.94 Q825.532 1549.52 819.722 1549.52 Q813.911 1549.52 810.833 1544.94 Q807.777 1540.33 807.777 1531.6 Q807.777 1522.85 810.833 1518.27 Q813.911 1513.66 819.722 1513.66 Z\" fill=\"#000000\" fill-rule=\"nonzero\" fill-opacity=\"1\" /><path clip-path=\"url(#clip940)\" d=\"M849.883 1517.37 Q846.272 1517.37 844.444 1520.93 Q842.638 1524.47 842.638 1531.6 Q842.638 1538.71 844.444 1542.27 Q846.272 1545.82 849.883 1545.82 Q853.518 1545.82 855.323 1542.27 Q857.152 1538.71 857.152 1531.6 Q857.152 1524.47 855.323 1520.93 Q853.518 1517.37 849.883 1517.37 M849.883 1513.66 Q855.694 1513.66 858.749 1518.27 Q861.828 1522.85 861.828 1531.6 Q861.828 1540.33 858.749 1544.94 Q855.694 1549.52 849.883 1549.52 Q844.073 1549.52 840.995 1544.94 Q837.939 1540.33 837.939 1531.6 Q837.939 1522.85 840.995 1518.27 Q844.073 1513.66 849.883 1513.66 Z\" fill=\"#000000\" fill-rule=\"nonzero\" fill-opacity=\"1\" /><path clip-path=\"url(#clip940)\" d=\"M1350.18 1544.91 L1366.5 1544.91 L1366.5 1548.85 L1344.56 1548.85 L1344.56 1544.91 Q1347.22 1542.16 1351.8 1537.53 Q1356.41 1532.88 1357.59 1531.53 Q1359.84 1529.01 1360.72 1527.27 Q1361.62 1525.51 1361.62 1523.82 Q1361.62 1521.07 1359.67 1519.33 Q1357.75 1517.6 1354.65 1517.6 Q1352.45 1517.6 1350 1518.36 Q1347.57 1519.13 1344.79 1520.68 L1344.79 1515.95 Q1347.61 1514.82 1350.07 1514.24 Q1352.52 1513.66 1354.56 1513.66 Q1359.93 1513.66 1363.12 1516.35 Q1366.32 1519.03 1366.32 1523.52 Q1366.32 1525.65 1365.51 1527.57 Q1364.72 1529.47 1362.61 1532.07 Q1362.04 1532.74 1358.93 1535.95 Q1355.83 1539.15 1350.18 1544.91 Z\" fill=\"#000000\" fill-rule=\"nonzero\" fill-opacity=\"1\" /><path clip-path=\"url(#clip940)\" d=\"M1386.32 1517.37 Q1382.71 1517.37 1380.88 1520.93 Q1379.07 1524.47 1379.07 1531.6 Q1379.07 1538.71 1380.88 1542.27 Q1382.71 1545.82 1386.32 1545.82 Q1389.95 1545.82 1391.76 1542.27 Q1393.59 1538.71 1393.59 1531.6 Q1393.59 1524.47 1391.76 1520.93 Q1389.95 1517.37 1386.32 1517.37 M1386.32 1513.66 Q1392.13 1513.66 1395.18 1518.27 Q1398.26 1522.85 1398.26 1531.6 Q1398.26 1540.33 1395.18 1544.94 Q1392.13 1549.52 1386.32 1549.52 Q1380.51 1549.52 1377.43 1544.94 Q1374.37 1540.33 1374.37 1531.6 Q1374.37 1522.85 1377.43 1518.27 Q1380.51 1513.66 1386.32 1513.66 Z\" fill=\"#000000\" fill-rule=\"nonzero\" fill-opacity=\"1\" /><path clip-path=\"url(#clip940)\" d=\"M1416.48 1517.37 Q1412.87 1517.37 1411.04 1520.93 Q1409.23 1524.47 1409.23 1531.6 Q1409.23 1538.71 1411.04 1542.27 Q1412.87 1545.82 1416.48 1545.82 Q1420.11 1545.82 1421.92 1542.27 Q1423.75 1538.71 1423.75 1531.6 Q1423.75 1524.47 1421.92 1520.93 Q1420.11 1517.37 1416.48 1517.37 M1416.48 1513.66 Q1422.29 1513.66 1425.35 1518.27 Q1428.42 1522.85 1428.42 1531.6 Q1428.42 1540.33 1425.35 1544.94 Q1422.29 1549.52 1416.48 1549.52 Q1410.67 1549.52 1407.59 1544.94 Q1404.54 1540.33 1404.54 1531.6 Q1404.54 1522.85 1407.59 1518.27 Q1410.67 1513.66 1416.48 1513.66 Z\" fill=\"#000000\" fill-rule=\"nonzero\" fill-opacity=\"1\" /><path clip-path=\"url(#clip940)\" d=\"M1925.98 1530.21 Q1929.34 1530.93 1931.21 1533.2 Q1933.11 1535.47 1933.11 1538.8 Q1933.11 1543.92 1929.59 1546.72 Q1926.07 1549.52 1919.59 1549.52 Q1917.42 1549.52 1915.1 1549.08 Q1912.81 1548.66 1910.36 1547.81 L1910.36 1543.29 Q1912.3 1544.43 1914.62 1545.01 Q1916.93 1545.58 1919.45 1545.58 Q1923.85 1545.58 1926.14 1543.85 Q1928.46 1542.11 1928.46 1538.8 Q1928.46 1535.75 1926.31 1534.03 Q1924.18 1532.3 1920.36 1532.3 L1916.33 1532.3 L1916.33 1528.45 L1920.54 1528.45 Q1923.99 1528.45 1925.82 1527.09 Q1927.65 1525.7 1927.65 1523.11 Q1927.65 1520.45 1925.75 1519.03 Q1923.88 1517.6 1920.36 1517.6 Q1918.44 1517.6 1916.24 1518.01 Q1914.04 1518.43 1911.4 1519.31 L1911.4 1515.14 Q1914.06 1514.4 1916.38 1514.03 Q1918.71 1513.66 1920.77 1513.66 Q1926.1 1513.66 1929.2 1516.09 Q1932.3 1518.5 1932.3 1522.62 Q1932.3 1525.49 1930.66 1527.48 Q1929.01 1529.45 1925.98 1530.21 Z\" fill=\"#000000\" fill-rule=\"nonzero\" fill-opacity=\"1\" /><path clip-path=\"url(#clip940)\" d=\"M1951.98 1517.37 Q1948.37 1517.37 1946.54 1520.93 Q1944.73 1524.47 1944.73 1531.6 Q1944.73 1538.71 1946.54 1542.27 Q1948.37 1545.82 1951.98 1545.82 Q1955.61 1545.82 1957.42 1542.27 Q1959.25 1538.71 1959.25 1531.6 Q1959.25 1524.47 1957.42 1520.93 Q1955.61 1517.37 1951.98 1517.37 M1951.98 1513.66 Q1957.79 1513.66 1960.84 1518.27 Q1963.92 1522.85 1963.92 1531.6 Q1963.92 1540.33 1960.84 1544.94 Q1957.79 1549.52 1951.98 1549.52 Q1946.17 1549.52 1943.09 1544.94 Q1940.03 1540.33 1940.03 1531.6 Q1940.03 1522.85 1943.09 1518.27 Q1946.17 1513.66 1951.98 1513.66 Z\" fill=\"#000000\" fill-rule=\"nonzero\" fill-opacity=\"1\" /><path clip-path=\"url(#clip940)\" d=\"M1982.14 1517.37 Q1978.53 1517.37 1976.7 1520.93 Q1974.89 1524.47 1974.89 1531.6 Q1974.89 1538.71 1976.7 1542.27 Q1978.53 1545.82 1982.14 1545.82 Q1985.77 1545.82 1987.58 1542.27 Q1989.41 1538.71 1989.41 1531.6 Q1989.41 1524.47 1987.58 1520.93 Q1985.77 1517.37 1982.14 1517.37 M1982.14 1513.66 Q1987.95 1513.66 1991 1518.27 Q1994.08 1522.85 1994.08 1531.6 Q1994.08 1540.33 1991 1544.94 Q1987.95 1549.52 1982.14 1549.52 Q1976.33 1549.52 1973.25 1544.94 Q1970.19 1540.33 1970.19 1531.6 Q1970.19 1522.85 1973.25 1518.27 Q1976.33 1513.66 1982.14 1513.66 Z\" fill=\"#000000\" fill-rule=\"nonzero\" fill-opacity=\"1\" /><polyline clip-path=\"url(#clip940)\" style=\"stroke:#000000; stroke-linecap:round; stroke-linejoin:round; stroke-width:4; stroke-opacity:1; fill:none\" points=\"193.936,1486.45 193.936,47.2441 \"/>\n",
       "<polyline clip-path=\"url(#clip940)\" style=\"stroke:#000000; stroke-linecap:round; stroke-linejoin:round; stroke-width:4; stroke-opacity:1; fill:none\" points=\"193.936,1290.89 212.834,1290.89 \"/>\n",
       "<polyline clip-path=\"url(#clip940)\" style=\"stroke:#000000; stroke-linecap:round; stroke-linejoin:round; stroke-width:4; stroke-opacity:1; fill:none\" points=\"193.936,1028.87 212.834,1028.87 \"/>\n",
       "<polyline clip-path=\"url(#clip940)\" style=\"stroke:#000000; stroke-linecap:round; stroke-linejoin:round; stroke-width:4; stroke-opacity:1; fill:none\" points=\"193.936,766.846 212.834,766.846 \"/>\n",
       "<polyline clip-path=\"url(#clip940)\" style=\"stroke:#000000; stroke-linecap:round; stroke-linejoin:round; stroke-width:4; stroke-opacity:1; fill:none\" points=\"193.936,504.825 212.834,504.825 \"/>\n",
       "<polyline clip-path=\"url(#clip940)\" style=\"stroke:#000000; stroke-linecap:round; stroke-linejoin:round; stroke-width:4; stroke-opacity:1; fill:none\" points=\"193.936,242.804 212.834,242.804 \"/>\n",
       "<path clip-path=\"url(#clip940)\" d=\"M50.9921 1291.34 L80.6679 1291.34 L80.6679 1295.27 L50.9921 1295.27 L50.9921 1291.34 Z\" fill=\"#000000\" fill-rule=\"nonzero\" fill-opacity=\"1\" /><path clip-path=\"url(#clip940)\" d=\"M91.5706 1304.23 L99.2095 1304.23 L99.2095 1277.87 L90.8993 1279.53 L90.8993 1275.27 L99.1632 1273.61 L103.839 1273.61 L103.839 1304.23 L111.478 1304.23 L111.478 1308.17 L91.5706 1308.17 L91.5706 1304.23 Z\" fill=\"#000000\" fill-rule=\"nonzero\" fill-opacity=\"1\" /><path clip-path=\"url(#clip940)\" d=\"M120.922 1302.29 L125.807 1302.29 L125.807 1308.17 L120.922 1308.17 L120.922 1302.29 Z\" fill=\"#000000\" fill-rule=\"nonzero\" fill-opacity=\"1\" /><path clip-path=\"url(#clip940)\" d=\"M145.992 1276.69 Q142.381 1276.69 140.552 1280.25 Q138.746 1283.79 138.746 1290.92 Q138.746 1298.03 140.552 1301.59 Q142.381 1305.14 145.992 1305.14 Q149.626 1305.14 151.431 1301.59 Q153.26 1298.03 153.26 1290.92 Q153.26 1283.79 151.431 1280.25 Q149.626 1276.69 145.992 1276.69 M145.992 1272.98 Q151.802 1272.98 154.857 1277.59 Q157.936 1282.17 157.936 1290.92 Q157.936 1299.65 154.857 1304.26 Q151.802 1308.84 145.992 1308.84 Q140.181 1308.84 137.103 1304.26 Q134.047 1299.65 134.047 1290.92 Q134.047 1282.17 137.103 1277.59 Q140.181 1272.98 145.992 1272.98 Z\" fill=\"#000000\" fill-rule=\"nonzero\" fill-opacity=\"1\" /><path clip-path=\"url(#clip940)\" d=\"M51.9875 1029.32 L81.6633 1029.32 L81.6633 1033.25 L51.9875 1033.25 L51.9875 1029.32 Z\" fill=\"#000000\" fill-rule=\"nonzero\" fill-opacity=\"1\" /><path clip-path=\"url(#clip940)\" d=\"M101.756 1014.67 Q98.1447 1014.67 96.316 1018.23 Q94.5104 1021.77 94.5104 1028.9 Q94.5104 1036.01 96.316 1039.57 Q98.1447 1043.11 101.756 1043.11 Q105.39 1043.11 107.196 1039.57 Q109.024 1036.01 109.024 1028.9 Q109.024 1021.77 107.196 1018.23 Q105.39 1014.67 101.756 1014.67 M101.756 1010.96 Q107.566 1010.96 110.621 1015.57 Q113.7 1020.15 113.7 1028.9 Q113.7 1037.63 110.621 1042.23 Q107.566 1046.82 101.756 1046.82 Q95.9456 1046.82 92.8669 1042.23 Q89.8114 1037.63 89.8114 1028.9 Q89.8114 1020.15 92.8669 1015.57 Q95.9456 1010.96 101.756 1010.96 Z\" fill=\"#000000\" fill-rule=\"nonzero\" fill-opacity=\"1\" /><path clip-path=\"url(#clip940)\" d=\"M121.918 1040.27 L126.802 1040.27 L126.802 1046.15 L121.918 1046.15 L121.918 1040.27 Z\" fill=\"#000000\" fill-rule=\"nonzero\" fill-opacity=\"1\" /><path clip-path=\"url(#clip940)\" d=\"M137.033 1011.59 L155.39 1011.59 L155.39 1015.52 L141.316 1015.52 L141.316 1023.99 Q142.334 1023.65 143.353 1023.49 Q144.371 1023.3 145.39 1023.3 Q151.177 1023.3 154.556 1026.47 Q157.936 1029.64 157.936 1035.06 Q157.936 1040.64 154.464 1043.74 Q150.992 1046.82 144.672 1046.82 Q142.496 1046.82 140.228 1046.45 Q137.982 1046.08 135.575 1045.34 L135.575 1040.64 Q137.658 1041.77 139.881 1042.33 Q142.103 1042.88 144.58 1042.88 Q148.584 1042.88 150.922 1040.78 Q153.26 1038.67 153.26 1035.06 Q153.26 1031.45 150.922 1029.34 Q148.584 1027.24 144.58 1027.24 Q142.705 1027.24 140.83 1027.65 Q138.978 1028.07 137.033 1028.95 L137.033 1011.59 Z\" fill=\"#000000\" fill-rule=\"nonzero\" fill-opacity=\"1\" /><path clip-path=\"url(#clip940)\" d=\"M100.76 752.645 Q97.1493 752.645 95.3206 756.209 Q93.515 759.751 93.515 766.881 Q93.515 773.987 95.3206 777.552 Q97.1493 781.094 100.76 781.094 Q104.395 781.094 106.2 777.552 Q108.029 773.987 108.029 766.881 Q108.029 759.751 106.2 756.209 Q104.395 752.645 100.76 752.645 M100.76 748.941 Q106.571 748.941 109.626 753.547 Q112.705 758.131 112.705 766.881 Q112.705 775.608 109.626 780.214 Q106.571 784.797 100.76 784.797 Q94.9502 784.797 91.8715 780.214 Q88.816 775.608 88.816 766.881 Q88.816 758.131 91.8715 753.547 Q94.9502 748.941 100.76 748.941 Z\" fill=\"#000000\" fill-rule=\"nonzero\" fill-opacity=\"1\" /><path clip-path=\"url(#clip940)\" d=\"M120.922 778.246 L125.807 778.246 L125.807 784.126 L120.922 784.126 L120.922 778.246 Z\" fill=\"#000000\" fill-rule=\"nonzero\" fill-opacity=\"1\" /><path clip-path=\"url(#clip940)\" d=\"M145.992 752.645 Q142.381 752.645 140.552 756.209 Q138.746 759.751 138.746 766.881 Q138.746 773.987 140.552 777.552 Q142.381 781.094 145.992 781.094 Q149.626 781.094 151.431 777.552 Q153.26 773.987 153.26 766.881 Q153.26 759.751 151.431 756.209 Q149.626 752.645 145.992 752.645 M145.992 748.941 Q151.802 748.941 154.857 753.547 Q157.936 758.131 157.936 766.881 Q157.936 775.608 154.857 780.214 Q151.802 784.797 145.992 784.797 Q140.181 784.797 137.103 780.214 Q134.047 775.608 134.047 766.881 Q134.047 758.131 137.103 753.547 Q140.181 748.941 145.992 748.941 Z\" fill=\"#000000\" fill-rule=\"nonzero\" fill-opacity=\"1\" /><path clip-path=\"url(#clip940)\" d=\"M101.756 490.624 Q98.1447 490.624 96.316 494.188 Q94.5104 497.73 94.5104 504.86 Q94.5104 511.966 96.316 515.531 Q98.1447 519.073 101.756 519.073 Q105.39 519.073 107.196 515.531 Q109.024 511.966 109.024 504.86 Q109.024 497.73 107.196 494.188 Q105.39 490.624 101.756 490.624 M101.756 486.92 Q107.566 486.92 110.621 491.526 Q113.7 496.11 113.7 504.86 Q113.7 513.587 110.621 518.193 Q107.566 522.776 101.756 522.776 Q95.9456 522.776 92.8669 518.193 Q89.8114 513.587 89.8114 504.86 Q89.8114 496.11 92.8669 491.526 Q95.9456 486.92 101.756 486.92 Z\" fill=\"#000000\" fill-rule=\"nonzero\" fill-opacity=\"1\" /><path clip-path=\"url(#clip940)\" d=\"M121.918 516.225 L126.802 516.225 L126.802 522.105 L121.918 522.105 L121.918 516.225 Z\" fill=\"#000000\" fill-rule=\"nonzero\" fill-opacity=\"1\" /><path clip-path=\"url(#clip940)\" d=\"M137.033 487.545 L155.39 487.545 L155.39 491.48 L141.316 491.48 L141.316 499.952 Q142.334 499.605 143.353 499.443 Q144.371 499.258 145.39 499.258 Q151.177 499.258 154.556 502.429 Q157.936 505.6 157.936 511.017 Q157.936 516.596 154.464 519.698 Q150.992 522.776 144.672 522.776 Q142.496 522.776 140.228 522.406 Q137.982 522.036 135.575 521.295 L135.575 516.596 Q137.658 517.73 139.881 518.286 Q142.103 518.841 144.58 518.841 Q148.584 518.841 150.922 516.735 Q153.26 514.628 153.26 511.017 Q153.26 507.406 150.922 505.3 Q148.584 503.193 144.58 503.193 Q142.705 503.193 140.83 503.61 Q138.978 504.026 137.033 504.906 L137.033 487.545 Z\" fill=\"#000000\" fill-rule=\"nonzero\" fill-opacity=\"1\" /><path clip-path=\"url(#clip940)\" d=\"M91.5706 256.149 L99.2095 256.149 L99.2095 229.783 L90.8993 231.45 L90.8993 227.191 L99.1632 225.524 L103.839 225.524 L103.839 256.149 L111.478 256.149 L111.478 260.084 L91.5706 260.084 L91.5706 256.149 Z\" fill=\"#000000\" fill-rule=\"nonzero\" fill-opacity=\"1\" /><path clip-path=\"url(#clip940)\" d=\"M120.922 254.204 L125.807 254.204 L125.807 260.084 L120.922 260.084 L120.922 254.204 Z\" fill=\"#000000\" fill-rule=\"nonzero\" fill-opacity=\"1\" /><path clip-path=\"url(#clip940)\" d=\"M145.992 228.603 Q142.381 228.603 140.552 232.168 Q138.746 235.709 138.746 242.839 Q138.746 249.945 140.552 253.51 Q142.381 257.052 145.992 257.052 Q149.626 257.052 151.431 253.51 Q153.26 249.945 153.26 242.839 Q153.26 235.709 151.431 232.168 Q149.626 228.603 145.992 228.603 M145.992 224.899 Q151.802 224.899 154.857 229.505 Q157.936 234.089 157.936 242.839 Q157.936 251.566 154.857 256.172 Q151.802 260.755 145.992 260.755 Q140.181 260.755 137.103 256.172 Q134.047 251.566 134.047 242.839 Q134.047 234.089 137.103 229.505 Q140.181 224.899 145.992 224.899 Z\" fill=\"#000000\" fill-rule=\"nonzero\" fill-opacity=\"1\" /><polyline clip-path=\"url(#clip942)\" style=\"stroke:#ff0000; stroke-linecap:round; stroke-linejoin:round; stroke-width:4; stroke-opacity:1; fill:none\" points=\"255.035,1408.41 305.95,1365.73 356.866,1308.31 407.781,1237.55 458.697,1155.2 509.612,1063.29 560.528,964.078 611.444,860.011 662.359,753.65 713.275,647.614 764.19,544.514 815.106,446.888 866.021,357.141 916.937,277.482 967.853,209.873 1018.77,155.978 1069.68,117.125 1120.6,94.27 1171.51,87.9763 1222.43,98.3986 1273.35,125.28 1324.26,167.959 1375.18,225.385 1426.09,296.143 1477.01,378.492 1527.92,470.403 1578.84,569.614 1629.75,673.681 1680.67,780.042 1731.59,886.078 1782.5,989.178 1833.42,1086.8 1884.33,1176.55 1935.25,1256.21 1986.16,1323.82 2037.08,1377.71 2087.99,1416.57 2138.91,1439.42 2189.83,1445.72 2240.74,1435.29 2291.66,1408.41 \"/>\n",
       "<path clip-path=\"url(#clip940)\" d=\"M2012.48 198.898 L2280.8 198.898 L2280.8 95.2176 L2012.48 95.2176  Z\" fill=\"#ffffff\" fill-rule=\"evenodd\" fill-opacity=\"1\"/>\n",
       "<polyline clip-path=\"url(#clip940)\" style=\"stroke:#000000; stroke-linecap:round; stroke-linejoin:round; stroke-width:4; stroke-opacity:1; fill:none\" points=\"2012.48,198.898 2280.8,198.898 2280.8,95.2176 2012.48,95.2176 2012.48,198.898 \"/>\n",
       "<polyline clip-path=\"url(#clip940)\" style=\"stroke:#ff0000; stroke-linecap:round; stroke-linejoin:round; stroke-width:4; stroke-opacity:1; fill:none\" points=\"2036.47,147.058 2180.39,147.058 \"/>\n",
       "<path clip-path=\"url(#clip940)\" d=\"M2218.22 166.745 Q2216.42 171.375 2214.7 172.787 Q2212.99 174.199 2210.12 174.199 L2206.72 174.199 L2206.72 170.634 L2209.22 170.634 Q2210.98 170.634 2211.95 169.8 Q2212.92 168.967 2214.1 165.865 L2214.86 163.921 L2204.38 138.412 L2208.89 138.412 L2216.99 158.689 L2225.1 138.412 L2229.61 138.412 L2218.22 166.745 Z\" fill=\"#000000\" fill-rule=\"nonzero\" fill-opacity=\"1\" /><path clip-path=\"url(#clip940)\" d=\"M2236.9 160.402 L2244.54 160.402 L2244.54 134.037 L2236.23 135.703 L2236.23 131.444 L2244.49 129.778 L2249.17 129.778 L2249.17 160.402 L2256.81 160.402 L2256.81 164.338 L2236.9 164.338 L2236.9 160.402 Z\" fill=\"#000000\" fill-rule=\"nonzero\" fill-opacity=\"1\" /></svg>\n"
      ]
     },
     "metadata": {},
     "output_type": "display_data"
    }
   ],
   "source": [
    "angulos = collect(0 : pi/20 : 2*pi)\n",
    "\n",
    "x = angulos * 180/ pi\n",
    "\n",
    "print(x, \"\\n\" )\n",
    "\n",
    "y = (0.6 .* sin.(angulos .- (pi/4))) .- (0.8.*cos.(angulos))\n",
    "\n",
    "print(y)\n",
    "\n",
    "plot(x, y, color=:red)\n",
    "\n"
   ]
  },
  {
   "cell_type": "markdown",
   "metadata": {},
   "source": [
    "4. >Defina una matriz de ceros de tamaño $5\\times2$ y una matriz identidad $10\\times10$.\n"
   ]
  },
  {
   "cell_type": "code",
   "execution_count": 84,
   "metadata": {},
   "outputs": [],
   "source": []
  },
  {
   "cell_type": "markdown",
   "metadata": {},
   "source": [
    "\n",
    "5. >Construya una función de transferencia :\n",
    "    $$P(s) = \\dfrac{5s+3}{s^3+12s^2+1.275s+3}$$\n",
    "> Encuentre los polos y los ceros de este sistema. Encuentre un modelo de variables de estado para este sistema dinámico lineal.\n"
   ]
  },
  {
   "cell_type": "code",
   "execution_count": 85,
   "metadata": {},
   "outputs": [],
   "source": [
    "\n"
   ]
  },
  {
   "cell_type": "code",
   "execution_count": 86,
   "metadata": {},
   "outputs": [],
   "source": []
  },
  {
   "cell_type": "markdown",
   "metadata": {},
   "source": [
    "6. >El sistema lineal definido en el problema 5., se va a conectar en una configuración de realimentación unitaria como la que se muestra en la figura. Suponga que el controlador es $K(s)=10$. Encuentre las funciones de transferencia $y(s)/r(s)$, $u(s)/r(s)$ y $y(s)/d_y(s)$. Use Julia para estos cálculos."
   ]
  },
  {
   "cell_type": "markdown",
   "metadata": {},
   "source": [
    "![Realimentación unitaria](fig_1_2-1.png)"
   ]
  },
  {
   "cell_type": "markdown",
   "metadata": {},
   "source": [
    "7. >Simule que se aplica una señal tipo escalón (*unit step*) en la entrada $r$ del sistema de lazo cerrado, mientras las otras entradas se mantienen en cero. Grafique la salida en función del tiempo. (Use la función `step`)."
   ]
  },
  {
   "cell_type": "code",
   "execution_count": 1,
   "metadata": {},
   "outputs": [
    {
     "ename": "UndefVarError",
     "evalue": "UndefVarError: `data` not defined in `Main`\nSuggestion: check for spelling errors or missing imports.",
     "output_type": "error",
     "traceback": [
      "UndefVarError: `data` not defined in `Main`\n",
      "Suggestion: check for spelling errors or missing imports.\n"
     ]
    }
   ],
   "source": [
    "data\n"
   ]
  },
  {
   "cell_type": "markdown",
   "metadata": {},
   "source": [
    "8. >Repita el problema anterior para una entrada tipo escalón en la perturbación de salida $d_y$. (Aquí utilice la función `step_plt(sys, t_max)`, incluida en el archivo `ControlUN.jl`)."
   ]
  },
  {
   "cell_type": "code",
   "execution_count": 88,
   "metadata": {},
   "outputs": [],
   "source": []
  },
  {
   "cell_type": "markdown",
   "metadata": {},
   "source": [
    "9. >Ahora defina  una matriz  $\\Theta_c$ de tamaño $3\\times3$ sin darle valores; posteriormente asignaremos sus componentes vector por vector (puede usar la construcción `Array{Float64}(undef,3,3)`). Utilice las matrices $A,B$ del modelo obtenido en el problema 5 y asigne a la columna $j$ de la matriz $\\Theta_c^{(j)}$, el producto:\n",
    "$$ \\Theta_c^{(j)}= A^{j-1}B$$\n",
    ">donde $A^j = A\\times A\\times\\cdots\\times A$ ($j$ veces). Esto significa que \n",
    "$$ \\Theta_c= \\begin{bmatrix}B&AB&A^2B&\\cdots&A^{n-1}B\\end{bmatrix}$$\n",
    ">Encuentre el rango de la matriz $\\Theta_c$"
   ]
  },
  {
   "cell_type": "code",
   "execution_count": 89,
   "metadata": {},
   "outputs": [],
   "source": []
  },
  {
   "cell_type": "markdown",
   "metadata": {},
   "source": [
    "10. >A continuación, defina una matriz  $\\Theta_o$ de tamaño $3\\times3$ sin darle valores; posteriormente asignaremos sus componentes. Utilice las matrices $A,C$ del modelo obtenido en el problema anterior y asigne a la fila  $i$ de la matriz $\\Theta_{o(i)}$, el producto:\n",
    "$$ \\Theta_{o(j)}= C\\,A^{i-1}$$\n",
    ">donde $A^i = A\\times A\\times\\cdots\\times A$ ($i$ veces). Por lo tanto, \n",
    "$$ \\Theta_o= \\begin{bmatrix}C\\\\C\\,A\\\\C\\,A^2\\\\\\vdots\\\\C\\,A^{n-1}\\end{bmatrix}.$$\n"
   ]
  },
  {
   "cell_type": "code",
   "execution_count": 90,
   "metadata": {},
   "outputs": [],
   "source": []
  },
  {
   "cell_type": "markdown",
   "metadata": {},
   "source": [
    "> Si la matriz $\\Theta_o$ es de rango completo, calcule su inversa."
   ]
  },
  {
   "cell_type": "code",
   "execution_count": 91,
   "metadata": {},
   "outputs": [],
   "source": []
  },
  {
   "cell_type": "markdown",
   "metadata": {},
   "source": [
    "11. >Dado el vector de tiempos (`t = collect(0:0.01:10)`), defina una señal de entrada a un sistema  lineal, así\n",
    "$$f(t) = \\begin{cases}0.25\\,t &0\\le t\\le2\\\\\n",
    "0.5 & 2\\le t \\le 4\\\\\n",
    "-0.25\\,t+2.5 & 4\\le t \\le6\\\\ \n",
    "0& t\\le6 \\end{cases}$$\n",
    "> Debe definir una función de dos variables, $x$ y $t$ tal que a cada valor del argumento $t$ da el valor de la señal que acabamos de definir. \n",
    "`u(x,t) -> f(t)`\n",
    "> Compruebe que produce los valores dados en la definición y haga una gráfica $f(t)$ vs $t$"
   ]
  },
  {
   "cell_type": "code",
   "execution_count": 92,
   "metadata": {},
   "outputs": [],
   "source": []
  },
  {
   "cell_type": "markdown",
   "metadata": {},
   "source": [
    "12. >Use la función `u(x,t)` definida en el problema anterior como señal de entrada a un sistema lineal, descrito por la función de transferencia\n",
    "$$F(s) = \\dfrac{3.25\\omega_o^2+\\omega_o^3}{s^3+1.75\\omega_o+3.25\\omega_o^2+\\omega_o^3}, \\quad\\text{para } \\omega_o=8$$\n",
    ">Haga una gráfica de la respuesta vs $t$."
   ]
  },
  {
   "cell_type": "code",
   "execution_count": 93,
   "metadata": {},
   "outputs": [],
   "source": []
  }
 ],
 "metadata": {
  "kernelspec": {
   "display_name": "Julia 1.11.5",
   "language": "julia",
   "name": "julia-1.11"
  },
  "language_info": {
   "file_extension": ".jl",
   "mimetype": "application/julia",
   "name": "julia",
   "version": "1.11.5"
  }
 },
 "nbformat": 4,
 "nbformat_minor": 2
}
