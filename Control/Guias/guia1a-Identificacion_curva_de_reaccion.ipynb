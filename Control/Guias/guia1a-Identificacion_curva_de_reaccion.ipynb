{
 "cells": [
  {
   "cell_type": "markdown",
   "id": "c9422e16-5068-4ebe-b498-e631da989eac",
   "metadata": {
    "editable": true,
    "slideshow": {
     "slide_type": ""
    },
    "tags": []
   },
   "source": [
    "# Identificación de sistemas por medio de la curva de reacción (respuesta al escalón).\n",
    "\n",
    "\n",
    "En esta práctica vamos a obtener el modelo por curva de reacción y el modelo estático para un sistema térmico. También lo haremos para un motor DC considerando como salida la velocidad. Usaremos para ello las plantas diseñadas en la universidad denominadoss UNThermal y UNDCMotor.\n",
    "\n",
    "+ El UNThermal es un minilaboratorio que permite realizar el control de temperatura de un par transistor-sensor mediante la administración precisa de potencia eléctrica controlada por una fuente de corriente analógica. \n",
    "\n",
    "+ El UNDCMotor es un minilaboratorio que permite realizar el control de velocidad y ángulo de giro de un motor DC.\n"
   ]
  },
  {
   "cell_type": "markdown",
   "id": "3b961e38-1df0-478e-9e27-47d673262f3d",
   "metadata": {},
   "source": [
    "## Configuración\n",
    "---"
   ]
  },
  {
   "cell_type": "markdown",
   "id": "51c5d6ab-6960-46b6-82c4-92d959f3ffd0",
   "metadata": {},
   "source": [
    "\n",
    "### Instalación de las librerias unthermal y unmotor\n",
    "\n",
    "Ejecutar esta celda solo para instalar por primera vez o actualizar la libreria. __Asegúrese de instalar  [Git](https://git-scm.com/download/win/ \"Git\").__\n",
    "\n",
    "<div class=\"alert alert-block alert-danger\">\n",
    "⚠️ Ejecutar esta celda solo para instalar por primera vez o actualizar la libreria. \n",
    "</div>\n"
   ]
  },
  {
   "cell_type": "code",
   "execution_count": 3,
   "id": "0d0a5fb1-ea33-483f-b97d-cbbafcbd5cbc",
   "metadata": {
    "editable": true,
    "scrolled": true,
    "slideshow": {
     "slide_type": ""
    },
    "tags": []
   },
   "outputs": [],
   "source": [
    "# import subprocess\n",
    "# command = [\"pip\", \"install\", \"-I\",\"--user\", \"git+https://github.com/nebisman/UNThermal.git@main#subdirectory=code/python_code\"]\n",
    "# process = subprocess.Popen(command, stdout=subprocess.PIPE, stderr=subprocess.STDOUT, text=True)\n",
    "# for line in process.stdout:\n",
    "#     print(line.strip())\n",
    "\n",
    "# command = [\"pip\", \"install\", \"-I\",\"--user\",\"git+https://github.com/nebisman/UNDCMotor.git@main#subdirectory=code/python_code\"]\n",
    "# process = subprocess.Popen(command, stdout=subprocess.PIPE, stderr=subprocess.STDOUT, text=True)\n",
    "# for line in process.stdout:\n",
    "#     print(line.strip())"
   ]
  },
  {
   "cell_type": "markdown",
   "id": "3af7a528-4000-4979-9288-154c34036842",
   "metadata": {
    "editable": true,
    "slideshow": {
     "slide_type": ""
    },
    "tags": []
   },
   "source": [
    "\n",
    "### Importación de comandos de la libreria unthermal y unmotor\n",
    "\n",
    "A continuación importamos los comandos básicos que usaremos de la libreria `unthermal` y la libreria `Matplotlib` para las figuras."
   ]
  },
  {
   "cell_type": "code",
   "execution_count": 2,
   "id": "initial_id",
   "metadata": {
    "ExecuteTime": {
     "end_time": "2024-10-18T00:15:28.976393Z",
     "start_time": "2024-10-18T00:15:27.343292Z"
    },
    "editable": true,
    "scrolled": true,
    "slideshow": {
     "slide_type": ""
    },
    "tags": []
   },
   "outputs": [],
   "source": [
    "%matplotlib widget\n",
    "import matplotlib.pyplot as plt\n",
    "import unthermal as temp\n",
    "import numpy as np\n",
    "import unmotor as mot"
   ]
  },
  {
   "cell_type": "markdown",
   "id": "ae645517-4b81-4e87-b4b3-d3330a977c71",
   "metadata": {},
   "source": [
    "\n",
    "---"
   ]
  },
  {
   "cell_type": "markdown",
   "id": "be12da5c-147a-46e1-ae29-afe3673bb21b",
   "metadata": {},
   "source": [
    "\n",
    "### Definición del sistema en el IoT\n",
    "\n",
    "Lo primero que necesitamos es definir el sistema y su conexión al IoT. Esto lo hacemos mediante el  comando\n",
    "\n",
    "`ThermalSystemIoT(plant_number=\"xxxx\", broker_address = \"xx.xxx.xxx.xxx\")`.\n",
    "\n",
    "+ El parámetro `plant_number` es el identificador de la planta con que está trabajando. Por ejemplo `plant_number=\"PC-T-XX\"`\n",
    "\n",
    "+ El parámetro `broker_address` es la dirección IP del broker al cual se conecta la planta. Poner siempre ` broker_address = \"192.168.1.100\"` "
   ]
  },
  {
   "cell_type": "code",
   "execution_count": 3,
   "id": "aca6686d-6399-4c3a-b8eb-2b78ca05442b",
   "metadata": {
    "ExecuteTime": {
     "end_time": "2024-10-20T20:36:13.420801Z",
     "start_time": "2024-10-20T20:36:13.414544Z"
    },
    "editable": true,
    "slideshow": {
     "slide_type": ""
    },
    "tags": []
   },
   "outputs": [],
   "source": [
    "sistema_termico = temp.ThermalSystemIoT(plant_number = \"PC-T-XX\" , broker_address = \"192.168.1.100\")"
   ]
  },
  {
   "cell_type": "markdown",
   "id": "4bf56a3a",
   "metadata": {},
   "source": [
    "## Modelos estático y dinámico del sistema térmico\n",
    "---\n",
    "\n",
    "A continuación vamos a obtener tanto el modelo estático, como el modelo dinámico por respuesta al escalón del sistema térmico"
   ]
  },
  {
   "cell_type": "markdown",
   "id": "ee83cb1c",
   "metadata": {},
   "source": [
    "### Modelo estático del sistema térmico\n",
    "\n",
    "Es natural comenzar investigando el comportamiento estacionario de un sistema bajo\n",
    "control. Esto se hace mediante una curva que muestra el valor en estado estacionario de la\n",
    "salida (en este caso, la temperatura del par transistor-sensor) para diferentes valores de la variable de entrada (en este caso la potencia aplicada). A esta curva se le denomina Modelo Estático del Sistema.\n",
    "\n",
    "\n",
    "El modelo estático se puede obtener experimentalmente de varias formas. *Una manera\n",
    "es que el sistema esté en lazo cerrado con un controlador preajustado e ir ajustando diferentes valores de la referencia. Cuando la salida (en este caso la temperatura) alcanza el valor estacionario de referencia, se registra la señal de control que fue necesaria. Esto da un punto del modelo estático. Este procedimiento se repite para cubrir el rango completo de entradas.*\n",
    "\n",
    "\n",
    "\n",
    "+ La  función `get_static_model(system)` nos permite obtener el modelo estático del UNThermal definido por la instancia del UNThermal creada con la función  `ThermalSystemIoT(.)`\n",
    "+ La funcion `plt.savefig(.)` permite guardar la figura en en cualquier formato para su video informe\n",
    "+ `plt.show` hace que su figura se guarde al guardar y cerrar el notebook.\n",
    "\n",
    "\n",
    "*Note que la salida los valores de estado estacionario de la entrada y la salida quedan registrados en las variables `ue`, `ye`. También quedan guardados en el archivo `\\experiment_files\\DCmotor_static_gain_response.csv` presente en la carpeta en la que ejecuta este script.*\n"
   ]
  },
  {
   "cell_type": "code",
   "execution_count": null,
   "id": "66cff7d7",
   "metadata": {},
   "outputs": [],
   "source": [
    "ue, ye = temp.get_static_model(sistema_termico) \n",
    "plt.savefig(\"static_model.pdf\", format=\"pdf\", bbox_inches=\"tight\") # la figura se guarda en el archivo que ud desee\n",
    "plt.show() # esta linea es para que la figura se mantenga al guardar el notebook"
   ]
  },
  {
   "cell_type": "markdown",
   "id": "38d3e02f",
   "metadata": {},
   "source": [
    "### Preguntas orientadoras sobre el modelo estático\n",
    "\n",
    "Por favor discuta las preguntas con su compañero inmediatamente durante la práctica y respondalas en su videoinforme \n",
    "\n",
    "1.  Considere que el rango de operación va desde  $40^oC$ hasta $100^oC$. ¿Existen temperaturas en este rango más dificiles de controlar, según el modelo estático?\n",
    "2.  Suponga que un modelo aproximado del sistema térmico está dado por $G(s)=\\frac{\\alpha}{\\tau\\,s+1}$. ¿Cual de los parámetros ($\\alpha$ o $\\tau$) podriamos asumir como aproximadamente constante, según la curva del modelo estático?\n",
    "3.  ¿Cual es la señal de control necesaria para controlar una temperatura cercana a $60^oC$ y cuanto nos queda de acción de control si tenemos que compensar una temperatura muy fria que actúa como perturbación?"
   ]
  },
  {
   "cell_type": "markdown",
   "id": "8188c434-54e2-42d1-b98d-597c24c01797",
   "metadata": {},
   "source": [
    "\n",
    "\n",
    "### Modelo dinámico por respuesta al escalón\n",
    "\n",
    "Cuando se realiza la linealización del modelo del UNThermal se obtiene un  modelo lineal de primer orden, tal y como puede revisar en este [documento](https://github.com/nebisman/UNDCMotor/blob/main/docs/modelo_matematico_unmotor.pdf).\n",
    "\n",
    "Así, nuestro sistema térmico, dentro de una región cercana al punto de operación, puede ser descrito por la siguiente función de transferencia:\n",
    "\n",
    "$$G(s)= \\frac{\\alpha}{\\tau\\, s + 1} \\, e^{-L\\,s}$$\n",
    "\n",
    "Es usual que la primera prueba de identificación de sistemas que parecen de primer orden sea por la respuesta al escalón. "
   ]
  },
  {
   "cell_type": "markdown",
   "id": "75bd2236-2568-4422-8522-df25c4fecd6d",
   "metadata": {
    "editable": true,
    "slideshow": {
     "slide_type": ""
    },
    "tags": []
   },
   "source": [
    "\n",
    "### Método de estimación de los parámetros del sistema por la curva de reacción\n",
    " \n",
    " A continuación usamos el método de 2 puntos para la identificación del modelo de primer orden, según el prodedimiento descrito en este [documento](https://github.com/nebisman/UNThermal/blob/main/docs/metodo_2_puntos.pdf). \n",
    "\n",
    "\n",
    " Para iniciar hacemos el experimento de respuesta al escalón, usando el comando `step_open`."
   ]
  },
  {
   "cell_type": "code",
   "execution_count": null,
   "id": "273c4fe8",
   "metadata": {},
   "outputs": [],
   "source": [
    "# inicialmente hacemos el experimento de respuesta al escalón para 50 grados\n",
    "temp.step_open(sistema_termico, yop=50, amplitude=10);"
   ]
  },
  {
   "cell_type": "markdown",
   "id": "c5bce26d",
   "metadata": {},
   "source": [
    "#### Paso 1\n",
    "\n",
    "Encuentre $y_a$ gráficamente o como el promedio de $N$ puntos antes del cambio del escalón y $y_b$ como el promedio de los últimos $N$ puntos registrados en la respuesta al escalón. \n",
    "\n",
    "Establezca el valor de $u_a$ y $u_b$."
   ]
  },
  {
   "cell_type": "code",
   "execution_count": null,
   "id": "13a85835",
   "metadata": {},
   "outputs": [],
   "source": [
    "# Paso 1\n",
    "# Aqui leemos los resultados del experimento\n",
    "t, u, y = temp.read_step_open_file('experiment_files/Thermal_step_open_exp.csv')\n",
    "ind_step = np.diff(u).argmax() # es para detectar el indice del elemento donde ocurre el escalon\n",
    "\n",
    "\n",
    "# este es el valor inicial del escalón antes del cambio\n",
    "ua = u[ind_step]\n",
    "\n",
    "# el último punto es el valor final del escalón\n",
    "ub = u[-1]\n",
    "\n",
    "# calculamos el valor inicial de temperatura antes del cambio en el escalón\n",
    "# como el promedio de los 10 puntos antes del cambio\n",
    "ya = np.mean(y[ind_step-10:ind_step+1])\n",
    "\n",
    "# para el valor final de la temperatura tomamos un promedio de las 10 últimas valores\n",
    "yb = np.mean(y[-10:]) \n",
    "\n",
    "# calculamos el cambio neto en el escalon\n",
    "delta_u = ub - ua\n",
    "\n",
    "# calculamos el cambio en el valor de estado estacionario de la salida\n",
    "delta_y = yb - ya \n"
   ]
  },
  {
   "cell_type": "markdown",
   "id": "e47e02e0",
   "metadata": {},
   "source": [
    "#### Paso 2\n",
    "\n",
    "Con los datos experimentales, encuentre y grafique la respuesta experimental normalizada $\\overline{y}(t)$ del sistema por medio de siguiente ecuación:\n",
    "\n",
    " $$\\overline{y}(t) = \\frac{y(t)-y_a}{\\Delta\\,y}$$"
   ]
  },
  {
   "cell_type": "code",
   "execution_count": null,
   "id": "c2027dd7",
   "metadata": {},
   "outputs": [],
   "source": [
    "# paso 2\n",
    "# calculamos la respuesta normalizada\n",
    "y_norm = (y - ya) / delta_y\n",
    "\n",
    "#graficamos la respuesta normalizada\n",
    "fig, ax = plt.subplots(figsize=(8, 4))\n",
    "ax.set_title(r'Curva de respuesta normalizada $\\overline{y}(t)$')\n",
    "ax.set_facecolor('#f4eed7')\n",
    "ax.plot(t,y_norm)\n",
    "ax.grid(True)\n",
    "ax.set_xlabel(\"Tiempo (s)\")\n",
    "plt.show()\n",
    "\n"
   ]
  },
  {
   "cell_type": "markdown",
   "id": "b523ca68",
   "metadata": {},
   "source": [
    "#### Paso 3\n",
    "\n",
    "Encuentre por medio de interpolación numérica de la curva experimental los valores de tiempo $t_1, t_2$ en los cuales la respuesta experimental normalizada $\\overline{y}(t)$ alcanza dos valores en la zona inicial de máxima pendiente de la curva, en la cual $\\overline{y}(t)\\leq 0.5$.\n",
    "\n",
    "Por ejemplo, $\\overline{y}_1=0.05$ y $\\overline{y}_2=0.3$."
   ]
  },
  {
   "cell_type": "code",
   "execution_count": null,
   "id": "c37613a7",
   "metadata": {
    "ExecuteTime": {
     "end_time": "2024-10-30T17:01:59.161739Z",
     "start_time": "2024-10-30T17:01:58.811476Z"
    }
   },
   "outputs": [],
   "source": [
    "# Paso 3 \n",
    "# Definimos los puntos y1n=0.1, y y2n=0.3 y encontramos los tiempos en que se producen por interpolación numérica\n",
    "y1n = 0.05\n",
    "y2n = 0.3\n",
    "t1 = np.interp(y1n, y_norm, t) \n",
    "t2 = np.interp(y2n, y_norm, t) \n",
    "\n",
    "#graficamos estos puntos en la figura anterior para ilustrar\n",
    "ax.scatter([t1, t2],[y1n,y2n],color='b')\n",
    "ax.text( t1+10,y1n, f'$t_1=${t1:0.2f}  '+r'$\\overline{y}_1$='+f'{y1n:0.2f}', fontsize=12, color='b')\n",
    "ax.text( t2+10,y2n, f'$t_2=${t2:0.2f}  '+r'$\\overline{y}_2$='+f'{y2n:0.2f}', fontsize=12, color='b')\n",
    "plt.show()"
   ]
  },
  {
   "cell_type": "markdown",
   "id": "0d8077f4",
   "metadata": {},
   "source": [
    "#### Paso 4\n",
    "Calcule $L$, $\\tau$ y $\\alpha$ usando las  siguientes ecuaciones:\t\n",
    "\n",
    "$$\\tau= \\frac{t_2-t_1}{\\ln(\\frac{1-\\overline{y}_1}{1-\\overline{y}_2})}$$\n",
    "\n",
    "$$L = t_1 + \\tau \\ln (1-\\overline{y}_1)$$\n",
    "\n",
    "$$\\alpha =  \\frac{\\Delta\\,y}{\\Delta_u}$$ \n",
    "\n",
    "\n"
   ]
  },
  {
   "cell_type": "code",
   "execution_count": null,
   "id": "a2c742a6",
   "metadata": {
    "ExecuteTime": {
     "end_time": "2024-10-30T17:02:00.536779Z",
     "start_time": "2024-10-30T17:02:00.476638Z"
    }
   },
   "outputs": [],
   "source": [
    "# Paso 4 calculamos los valores estimados de tao, L y alpha\n",
    "\n",
    "\n",
    "tau = (t2-t1)/np.log((1-y1n)/(1-y2n))\n",
    "L = np.max([0,t1 + tau * np.log(1-y1n)])\n",
    "alpha = delta_y / delta_u"
   ]
  },
  {
   "cell_type": "code",
   "execution_count": null,
   "id": "84bd6f48",
   "metadata": {},
   "outputs": [],
   "source": [
    "def compute_step_response(t, alpha, tau, L):\n",
    "    # esta función calcula la respuesta al escalon con los parametros\n",
    "    ym = []\n",
    "    for ti in t:\n",
    "        yi = alpha * delta_u * (1 - np.exp(-np.max([0, ti-L]) / tau)) + ya\n",
    "        ym.append(yi)\n",
    "    return ym\n",
    "\n",
    "\n",
    "# calculamos la respuesta del modelo\n",
    "ymodel = compute_step_response(t, alpha, tau, L)\n",
    "\n",
    "# ahora graficamos la salida comparar los resultados\n",
    "fig, (ay, au) = plt.subplots(2, 1, figsize=(10, 6),height_ratios=[4, 1])\n",
    "ay.plot(t, y, t, ymodel)\n",
    "ay.grid(True)\n",
    "ay.set_title('Temperatura')\n",
    "ay.set_facecolor('#f4eed7')\n",
    "ay.legend([\"Datos\", r\"Modelo $G(s)= \\frac{\\alpha_m}{\\tau_m\\,s + 1} e^{-L\\,s} = \\frac{%0.3f }{%0.3f\\,s+1}e^{-%0.2f\\,s}$\" %(alpha, tau, L)])\n",
    "\n",
    "\n",
    "# En este gráfico está la entrada escalón\n",
    "au.plot(t, u, label='% de potencia de entrada', color=\"#00aa00\")\n",
    "au.set_xlabel(\"Tiempo\")\n",
    "au.set_facecolor('#d7f4ee')\n",
    "au.grid(True)\n",
    "au.legend([\"Porcentaje de potencia\"])\n",
    "plt.show()"
   ]
  },
  {
   "cell_type": "markdown",
   "id": "f51aa466",
   "metadata": {},
   "source": [
    "#### Función completa para la identificación del modelo de primer orden \n",
    "\n",
    "Todos los pasos anteriores están sintetizados en la función `get_fomodel_step(system, yop = desired_op)`. Esta función, además, utiliza una estimación más precisa de las constantes usando 4 puntos y mínimos cuadrados.\n",
    "\n",
    "\n",
    "+ El parámetro `system` es la instancia creada con la función  `ThermalSystemIoT(.)`\n",
    "\n",
    "+ El parámetro `yop = desired_op` permite obtener la respuesta al escalón con un cambio de potencia que inicia exactamente en el punto de operación `yop`.\n",
    "\n",
    "+  `alpha, tau` y `L` son los parámetros del sistema térmico.\n",
    "\n",
    "En el ejemplo siguiente obtenemos la respuesta al escalón y el modelo para un punto de operación.\n"
   ]
  },
  {
   "cell_type": "code",
   "execution_count": null,
   "id": "ed4b6eb5",
   "metadata": {},
   "outputs": [],
   "source": [
    "#Ejemplo\n",
    "alpha, tau, L = temp.get_fomodel_step(sistema_termico, yop = 50, amplitude=10, t1=600)"
   ]
  },
  {
   "cell_type": "markdown",
   "id": "7245da06",
   "metadata": {},
   "source": [
    "### Trabajo experimental con el sistema térmico\n",
    "\n",
    "+ Obtenga modelos para el sistema térmico en los puntos de operación de $60^o$ y $80^o$ usando la función `get_fomodel_step`. \n",
    "\n",
    "#### Preguntas orientadoras sobre los modelos dinámicos\n",
    "\n",
    "+ Compare  los modelos obtenidos  a $60^o$ y a  $80^o$ ¿Son similares los parámetros obtenidos en cada uno de estos modelos?\n",
    "\n",
    "+ Consideremos el modelo estático y los dos modelos dinámicos. Discuta que diferencias podrían existir al controlar el sistema térmico en un punto de operación cercano a $60^o$ y en un punto cercano a $80^o$."
   ]
  },
  {
   "cell_type": "markdown",
   "id": "dd334560",
   "metadata": {},
   "source": [
    "## Modelo estático y dinámico para el Motor DC\n",
    "___\n",
    "\n",
    "A continuación vamos a realizar el trabajo de un modelo estático y dinámico para el Motor DC. Para ello. primero definimos la planta como objeto IoT. Esto lo hacemos a continuación:"
   ]
  },
  {
   "cell_type": "code",
   "execution_count": 2,
   "id": "3daad523",
   "metadata": {},
   "outputs": [],
   "source": [
    "my_motor = mot.MotorSystemIoT(plant_number = \"PC-M-XX\", broker_address = \"192.168.1.100\") "
   ]
  },
  {
   "cell_type": "markdown",
   "id": "576033a2",
   "metadata": {},
   "source": [
    "### Modelo estático del Motor DC\n",
    "\n",
    "\n",
    "\n",
    "El modelo estático se puede obtener experimentalmente de varias formas. *otra manera\n",
    "habitual es ajustar un valor constante de entrada y medir la salida en estado estacionario.\n",
    "Esto da un punto del modelo estático. Este procedimiento se repite para cubrir el\n",
    "rango completo de entradas.*\n",
    "\n",
    "+ La  función `get_static_model(m)` nos permite obtener el modelo estático del UNDCmotor definido por la instancia del UNDCMotor creada con la función  `MotorSystemIoT(.)`\n",
    "\n",
    "+ La función `plt.savefig(.)` permite guardar la figura en en cualquier formato."
   ]
  },
  {
   "cell_type": "code",
   "execution_count": null,
   "id": "0d5f6547",
   "metadata": {},
   "outputs": [],
   "source": [
    "ue, ye = mot.get_static_model(my_motor) \n",
    "plt.savefig(\"static_model.pdf\", format=\"pdf\", bbox_inches=\"tight\") # la figura se guarda en el archivo que ud desee\n",
    "plt.show() # esta linea es para que la figura se mantenga al guardar el notebook"
   ]
  },
  {
   "cell_type": "markdown",
   "id": "df4a0623",
   "metadata": {},
   "source": [
    "#### Preguntas orientadoras sobre el modelo estático\n",
    "\n",
    "Discuta estas preguntas con su compañero e incluya una respuesta breve en su video informe.\n",
    "\n",
    "1.  ¿Cuál es la zona muerta del motor?\n",
    "2.  ¿Para cuales rangos de velocidad podría ser difícil controlar el motor?\n",
    "3.  ¿Hasta que velocidad máxima se puede controlar el motor?\n",
    "4.  Suponga que un modelo aproximado del motor está dado por $G(s)=\\frac{\\alpha}{\\tau\\,s+1}$. ¿Cual de los parámetros ($\\alpha$ o $\\tau$) varía ampliamente, según se ve reflejado en la  no linealidad  de la curva del modelo estático? "
   ]
  },
  {
   "cell_type": "markdown",
   "id": "86e7c2b9",
   "metadata": {},
   "source": [
    "### Modelo dinámico por respuesta al escalón \n",
    "---\n",
    "\n",
    "Un motor DC puede ser descrito con muy buena aproximación por un  [modelo lineal de primer orden](https://github.com/nebisman/UNDCMotor/blob/main/docs/modelo_matematico_unmotor.pdf), si consideramos que la entrada es tensión y la salida es la velocidad angular.\n",
    "\n",
    "Así, el UNDCMotor puede ser descrito por la siguiente función de transferencia:\n",
    "\n",
    "$$G(s)= \\frac{\\alpha}{\\tau\\, s + 1} e^{-sL}$$\n",
    "\n",
    "*Note que el retardo fundamentalmente aparece por el tiempo de muestreo del sistema digital que procesa la información.*\n",
    "\n",
    "\n",
    "\n",
    "La función `get_fomodel_step(system, yop = desired_op)`  *(get first order model by using step response)* permite obtener la respuesta al escalón y el modelo matemático del UNDCMotor\n",
    "\n",
    "+ El parámetro `system` es la instancia del UNDCMotor creada con la función  `MotorSystemIoT(.)`\n",
    "\n",
    "+ El parámetro `yop = desired_op` permite obtener la respuesta al escalón con un cambio de tensión que centra, aproximadamente, los valores final e inicial del escalón en el punto de operación `yop`.\n",
    "\n",
    "+  `alpha, tau` y `L` retornan los parámetros del motor.\n",
    "\n",
    "En el ejemplo siguiente obtenemos la respuesta al escalón y el modelo para un punto de operación."
   ]
  },
  {
   "cell_type": "code",
   "execution_count": null,
   "id": "b8dc17a8",
   "metadata": {},
   "outputs": [],
   "source": [
    "#Ejemplo\n",
    "alpha, tau, L = mot.get_fomodel_step(my_motor, yop = 200)\n",
    "plt.savefig(\"first_order_model_yop_150.pdf\", format=\"png\", bbox_inches=\"tight\") # para salvar la figura\n",
    "plt.show() # para congelarla en el notebook"
   ]
  },
  {
   "cell_type": "markdown",
   "id": "c9aff188",
   "metadata": {},
   "source": [
    "\n",
    "### Trabajo experimental con el motor\n",
    "\n",
    "Encuentre los modelos dinámicos por respuesta al escalón para los siguientes puntos de operación:\n",
    "\n",
    "+ $y_{OP}=150^o/s$\n",
    "+ $y_{OP}=300^o/s$\n",
    "+ $y_{OP}=600^o/s$\n",
    "\n",
    "#### Preguntas sobre el modelo por respuesta al escalón\n",
    "\n",
    "+ Describa como cambia la constante de tiempo $\\tau$ al incrementar la velocidad.\n",
    "+ Discuta que pasaría si se requiere un controlador para garantizar velocidad de $10^o/s$ en este sistema. \n",
    "+ Describa como cambia la constante de ganancia $\\alpha$ al incrementar la velocidad.\n",
    "+ Discuta sobre la incertidumbre en los parámetros $\\alpha$ y $\\tau$ del motor. ¿Qué implicaciones podría tener en control?\n",
    "+ Compare la incertidumbre en los parámetros $\\alpha$ y $\\tau$ del motor con la incertidumbre que se observa para los mismos parámetros en el sistema térmico en diferentes puntos de operación. Discuta al respecto. \n"
   ]
  }
 ],
 "metadata": {
  "kernelspec": {
   "display_name": "venv",
   "language": "python",
   "name": "python3"
  },
  "language_info": {
   "codemirror_mode": {
    "name": "ipython",
    "version": 3
   },
   "file_extension": ".py",
   "mimetype": "text/x-python",
   "name": "python",
   "nbconvert_exporter": "python",
   "pygments_lexer": "ipython3",
   "version": "3.12.6"
  },
  "widgets": {
   "application/vnd.jupyter.widget-state+json": {
    "state": {},
    "version_major": 2,
    "version_minor": 0
   }
  }
 },
 "nbformat": 4,
 "nbformat_minor": 5
}
